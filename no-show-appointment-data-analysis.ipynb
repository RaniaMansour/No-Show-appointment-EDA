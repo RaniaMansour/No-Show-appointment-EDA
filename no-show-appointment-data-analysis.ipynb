{
 "cells": [
  {
   "cell_type": "markdown",
   "id": "f231b17a",
   "metadata": {
    "papermill": {
     "duration": 0.031748,
     "end_time": "2023-09-10T18:28:26.383824",
     "exception": false,
     "start_time": "2023-09-10T18:28:26.352076",
     "status": "completed"
    },
    "tags": []
   },
   "source": [
    "\n",
    "# Project: No Show Appointment Data Analysis\n",
    "\n",
    "## Table of Contents\n",
    "<ul>\n",
    "<li><a href=\"#intro\">Introduction</a></li>\n",
    "<li><a href=\"#wrangling\">Data Wrangling</a></li>\n",
    "<li><a href=\"#eda\">Exploratory Data Analysis</a></li>\n",
    "<li><a href=\"#conclusions\">Conclusions</a></li>\n",
    "</ul>"
   ]
  },
  {
   "cell_type": "markdown",
   "id": "37d13c2f",
   "metadata": {
    "papermill": {
     "duration": 0.028428,
     "end_time": "2023-09-10T18:28:26.441428",
     "exception": false,
     "start_time": "2023-09-10T18:28:26.413000",
     "status": "completed"
    },
    "tags": []
   },
   "source": [
    "<a id='intro'></a>\n",
    "## Introduction\n",
    "\n",
    "> In this project, the data asscoiated with No Show Appointment will be analyzed.\n",
    "**Project Context: _A person makes a doctor appointment, receives all the instructions and no-show. Who to blame?_** \n",
    ">. In particular, the analysis goal is to find the factors affecting the patient to show up for a scheduled appointment. This will be accomplished by finding a co-relation between each variable or multiple variables with patient NO show up. The data involves the following: scheduled date, gender, age, scholarship (True or False indicates whether or not the patient is enrolled in brasilian welfare program), Neighborhood (indicated the location of the hospital), Hipertension (True or False), Diabetes (True or False), Alcoholism (True or False), Handcap (True or False) and SMS_received (indicated whether 1 or more messages sent to the patient)."
   ]
  },
  {
   "cell_type": "code",
   "execution_count": 1,
   "id": "a5771483",
   "metadata": {
    "execution": {
     "iopub.execute_input": "2023-09-10T18:28:26.502270Z",
     "iopub.status.busy": "2023-09-10T18:28:26.501581Z",
     "iopub.status.idle": "2023-09-10T18:28:27.552694Z",
     "shell.execute_reply": "2023-09-10T18:28:27.551756Z"
    },
    "papermill": {
     "duration": 1.084291,
     "end_time": "2023-09-10T18:28:27.555258",
     "exception": false,
     "start_time": "2023-09-10T18:28:26.470967",
     "status": "completed"
    },
    "tags": []
   },
   "outputs": [],
   "source": [
    "# import numpy, pandas, matplotlib and seaborn packages\n",
    "import numpy as np\n",
    "import pandas as pd\n",
    "import matplotlib.pyplot as plt\n",
    "import seaborn as sns\n",
    "%matplotlib inline"
   ]
  },
  {
   "cell_type": "markdown",
   "id": "ef32834c",
   "metadata": {
    "papermill": {
     "duration": 0.029158,
     "end_time": "2023-09-10T18:28:27.613332",
     "exception": false,
     "start_time": "2023-09-10T18:28:27.584174",
     "status": "completed"
    },
    "tags": []
   },
   "source": [
    "<a id='wrangling'></a>\n",
    "## Data Wrangling\n",
    "\n",
    "> In this section of the report, The data will be loaded, check for cleanliness, and then trim and clean the dataset for analysis.\n",
    "\n",
    "### General Properties"
   ]
  },
  {
   "cell_type": "code",
   "execution_count": 2,
   "id": "81981f07",
   "metadata": {
    "execution": {
     "iopub.execute_input": "2023-09-10T18:28:27.672583Z",
     "iopub.status.busy": "2023-09-10T18:28:27.672163Z",
     "iopub.status.idle": "2023-09-10T18:28:28.046377Z",
     "shell.execute_reply": "2023-09-10T18:28:28.045399Z"
    },
    "papermill": {
     "duration": 0.40718,
     "end_time": "2023-09-10T18:28:28.049488",
     "exception": false,
     "start_time": "2023-09-10T18:28:27.642308",
     "status": "completed"
    },
    "scrolled": true,
    "tags": []
   },
   "outputs": [
    {
     "data": {
      "text/html": [
       "<div>\n",
       "<style scoped>\n",
       "    .dataframe tbody tr th:only-of-type {\n",
       "        vertical-align: middle;\n",
       "    }\n",
       "\n",
       "    .dataframe tbody tr th {\n",
       "        vertical-align: top;\n",
       "    }\n",
       "\n",
       "    .dataframe thead th {\n",
       "        text-align: right;\n",
       "    }\n",
       "</style>\n",
       "<table border=\"1\" class=\"dataframe\">\n",
       "  <thead>\n",
       "    <tr style=\"text-align: right;\">\n",
       "      <th></th>\n",
       "      <th>PatientId</th>\n",
       "      <th>AppointmentID</th>\n",
       "      <th>Gender</th>\n",
       "      <th>ScheduledDay</th>\n",
       "      <th>AppointmentDay</th>\n",
       "      <th>Age</th>\n",
       "      <th>Neighbourhood</th>\n",
       "      <th>Scholarship</th>\n",
       "      <th>Hipertension</th>\n",
       "      <th>Diabetes</th>\n",
       "      <th>Alcoholism</th>\n",
       "      <th>Handcap</th>\n",
       "      <th>SMS_received</th>\n",
       "      <th>No-show</th>\n",
       "    </tr>\n",
       "  </thead>\n",
       "  <tbody>\n",
       "    <tr>\n",
       "      <th>0</th>\n",
       "      <td>2.987250e+13</td>\n",
       "      <td>5642903</td>\n",
       "      <td>F</td>\n",
       "      <td>2016-04-29T18:38:08Z</td>\n",
       "      <td>2016-04-29T00:00:00Z</td>\n",
       "      <td>62</td>\n",
       "      <td>JARDIM DA PENHA</td>\n",
       "      <td>0</td>\n",
       "      <td>1</td>\n",
       "      <td>0</td>\n",
       "      <td>0</td>\n",
       "      <td>0</td>\n",
       "      <td>0</td>\n",
       "      <td>No</td>\n",
       "    </tr>\n",
       "    <tr>\n",
       "      <th>1</th>\n",
       "      <td>5.589978e+14</td>\n",
       "      <td>5642503</td>\n",
       "      <td>M</td>\n",
       "      <td>2016-04-29T16:08:27Z</td>\n",
       "      <td>2016-04-29T00:00:00Z</td>\n",
       "      <td>56</td>\n",
       "      <td>JARDIM DA PENHA</td>\n",
       "      <td>0</td>\n",
       "      <td>0</td>\n",
       "      <td>0</td>\n",
       "      <td>0</td>\n",
       "      <td>0</td>\n",
       "      <td>0</td>\n",
       "      <td>No</td>\n",
       "    </tr>\n",
       "    <tr>\n",
       "      <th>2</th>\n",
       "      <td>4.262962e+12</td>\n",
       "      <td>5642549</td>\n",
       "      <td>F</td>\n",
       "      <td>2016-04-29T16:19:04Z</td>\n",
       "      <td>2016-04-29T00:00:00Z</td>\n",
       "      <td>62</td>\n",
       "      <td>MATA DA PRAIA</td>\n",
       "      <td>0</td>\n",
       "      <td>0</td>\n",
       "      <td>0</td>\n",
       "      <td>0</td>\n",
       "      <td>0</td>\n",
       "      <td>0</td>\n",
       "      <td>No</td>\n",
       "    </tr>\n",
       "    <tr>\n",
       "      <th>3</th>\n",
       "      <td>8.679512e+11</td>\n",
       "      <td>5642828</td>\n",
       "      <td>F</td>\n",
       "      <td>2016-04-29T17:29:31Z</td>\n",
       "      <td>2016-04-29T00:00:00Z</td>\n",
       "      <td>8</td>\n",
       "      <td>PONTAL DE CAMBURI</td>\n",
       "      <td>0</td>\n",
       "      <td>0</td>\n",
       "      <td>0</td>\n",
       "      <td>0</td>\n",
       "      <td>0</td>\n",
       "      <td>0</td>\n",
       "      <td>No</td>\n",
       "    </tr>\n",
       "    <tr>\n",
       "      <th>4</th>\n",
       "      <td>8.841186e+12</td>\n",
       "      <td>5642494</td>\n",
       "      <td>F</td>\n",
       "      <td>2016-04-29T16:07:23Z</td>\n",
       "      <td>2016-04-29T00:00:00Z</td>\n",
       "      <td>56</td>\n",
       "      <td>JARDIM DA PENHA</td>\n",
       "      <td>0</td>\n",
       "      <td>1</td>\n",
       "      <td>1</td>\n",
       "      <td>0</td>\n",
       "      <td>0</td>\n",
       "      <td>0</td>\n",
       "      <td>No</td>\n",
       "    </tr>\n",
       "  </tbody>\n",
       "</table>\n",
       "</div>"
      ],
      "text/plain": [
       "      PatientId  AppointmentID Gender          ScheduledDay  \\\n",
       "0  2.987250e+13        5642903      F  2016-04-29T18:38:08Z   \n",
       "1  5.589978e+14        5642503      M  2016-04-29T16:08:27Z   \n",
       "2  4.262962e+12        5642549      F  2016-04-29T16:19:04Z   \n",
       "3  8.679512e+11        5642828      F  2016-04-29T17:29:31Z   \n",
       "4  8.841186e+12        5642494      F  2016-04-29T16:07:23Z   \n",
       "\n",
       "         AppointmentDay  Age      Neighbourhood  Scholarship  Hipertension  \\\n",
       "0  2016-04-29T00:00:00Z   62    JARDIM DA PENHA            0             1   \n",
       "1  2016-04-29T00:00:00Z   56    JARDIM DA PENHA            0             0   \n",
       "2  2016-04-29T00:00:00Z   62      MATA DA PRAIA            0             0   \n",
       "3  2016-04-29T00:00:00Z    8  PONTAL DE CAMBURI            0             0   \n",
       "4  2016-04-29T00:00:00Z   56    JARDIM DA PENHA            0             1   \n",
       "\n",
       "   Diabetes  Alcoholism  Handcap  SMS_received No-show  \n",
       "0         0           0        0             0      No  \n",
       "1         0           0        0             0      No  \n",
       "2         0           0        0             0      No  \n",
       "3         0           0        0             0      No  \n",
       "4         1           0        0             0      No  "
      ]
     },
     "execution_count": 2,
     "metadata": {},
     "output_type": "execute_result"
    }
   ],
   "source": [
    "# read the csv file and create a dataframe \n",
    "df= pd.read_csv('/kaggle/input/no-show-investigate-dataset/noshowappointments-kagglev2-may-2016.csv')\n",
    "df.head()"
   ]
  },
  {
   "cell_type": "code",
   "execution_count": 3,
   "id": "b0f8776d",
   "metadata": {
    "execution": {
     "iopub.execute_input": "2023-09-10T18:28:28.109111Z",
     "iopub.status.busy": "2023-09-10T18:28:28.108454Z",
     "iopub.status.idle": "2023-09-10T18:28:28.114512Z",
     "shell.execute_reply": "2023-09-10T18:28:28.113550Z"
    },
    "papermill": {
     "duration": 0.038043,
     "end_time": "2023-09-10T18:28:28.116378",
     "exception": false,
     "start_time": "2023-09-10T18:28:28.078335",
     "status": "completed"
    },
    "tags": []
   },
   "outputs": [
    {
     "data": {
      "text/plain": [
       "(110527, 14)"
      ]
     },
     "execution_count": 3,
     "metadata": {},
     "output_type": "execute_result"
    }
   ],
   "source": [
    "# Display the dimensions of the dataframe\n",
    "df.shape"
   ]
  },
  {
   "cell_type": "code",
   "execution_count": 4,
   "id": "873c77b6",
   "metadata": {
    "execution": {
     "iopub.execute_input": "2023-09-10T18:28:28.176453Z",
     "iopub.status.busy": "2023-09-10T18:28:28.175677Z",
     "iopub.status.idle": "2023-09-10T18:28:28.230191Z",
     "shell.execute_reply": "2023-09-10T18:28:28.229043Z"
    },
    "papermill": {
     "duration": 0.087368,
     "end_time": "2023-09-10T18:28:28.232700",
     "exception": false,
     "start_time": "2023-09-10T18:28:28.145332",
     "status": "completed"
    },
    "tags": []
   },
   "outputs": [
    {
     "name": "stdout",
     "output_type": "stream",
     "text": [
      "<class 'pandas.core.frame.DataFrame'>\n",
      "RangeIndex: 110527 entries, 0 to 110526\n",
      "Data columns (total 14 columns):\n",
      " #   Column          Non-Null Count   Dtype  \n",
      "---  ------          --------------   -----  \n",
      " 0   PatientId       110527 non-null  float64\n",
      " 1   AppointmentID   110527 non-null  int64  \n",
      " 2   Gender          110527 non-null  object \n",
      " 3   ScheduledDay    110527 non-null  object \n",
      " 4   AppointmentDay  110527 non-null  object \n",
      " 5   Age             110527 non-null  int64  \n",
      " 6   Neighbourhood   110527 non-null  object \n",
      " 7   Scholarship     110527 non-null  int64  \n",
      " 8   Hipertension    110527 non-null  int64  \n",
      " 9   Diabetes        110527 non-null  int64  \n",
      " 10  Alcoholism      110527 non-null  int64  \n",
      " 11  Handcap         110527 non-null  int64  \n",
      " 12  SMS_received    110527 non-null  int64  \n",
      " 13  No-show         110527 non-null  object \n",
      "dtypes: float64(1), int64(8), object(5)\n",
      "memory usage: 11.8+ MB\n"
     ]
    }
   ],
   "source": [
    "# Display the data type for each variable in the data frame\n",
    "df.info()"
   ]
  },
  {
   "cell_type": "code",
   "execution_count": 5,
   "id": "1370372a",
   "metadata": {
    "execution": {
     "iopub.execute_input": "2023-09-10T18:28:28.292988Z",
     "iopub.status.busy": "2023-09-10T18:28:28.292409Z",
     "iopub.status.idle": "2023-09-10T18:28:28.357160Z",
     "shell.execute_reply": "2023-09-10T18:28:28.356207Z"
    },
    "papermill": {
     "duration": 0.097303,
     "end_time": "2023-09-10T18:28:28.359328",
     "exception": false,
     "start_time": "2023-09-10T18:28:28.262025",
     "status": "completed"
    },
    "scrolled": true,
    "tags": []
   },
   "outputs": [
    {
     "data": {
      "text/html": [
       "<div>\n",
       "<style scoped>\n",
       "    .dataframe tbody tr th:only-of-type {\n",
       "        vertical-align: middle;\n",
       "    }\n",
       "\n",
       "    .dataframe tbody tr th {\n",
       "        vertical-align: top;\n",
       "    }\n",
       "\n",
       "    .dataframe thead th {\n",
       "        text-align: right;\n",
       "    }\n",
       "</style>\n",
       "<table border=\"1\" class=\"dataframe\">\n",
       "  <thead>\n",
       "    <tr style=\"text-align: right;\">\n",
       "      <th></th>\n",
       "      <th>PatientId</th>\n",
       "      <th>AppointmentID</th>\n",
       "      <th>Age</th>\n",
       "      <th>Scholarship</th>\n",
       "      <th>Hipertension</th>\n",
       "      <th>Diabetes</th>\n",
       "      <th>Alcoholism</th>\n",
       "      <th>Handcap</th>\n",
       "      <th>SMS_received</th>\n",
       "    </tr>\n",
       "  </thead>\n",
       "  <tbody>\n",
       "    <tr>\n",
       "      <th>count</th>\n",
       "      <td>1.105270e+05</td>\n",
       "      <td>1.105270e+05</td>\n",
       "      <td>110527.000000</td>\n",
       "      <td>110527.000000</td>\n",
       "      <td>110527.000000</td>\n",
       "      <td>110527.000000</td>\n",
       "      <td>110527.000000</td>\n",
       "      <td>110527.000000</td>\n",
       "      <td>110527.000000</td>\n",
       "    </tr>\n",
       "    <tr>\n",
       "      <th>mean</th>\n",
       "      <td>1.474963e+14</td>\n",
       "      <td>5.675305e+06</td>\n",
       "      <td>37.088874</td>\n",
       "      <td>0.098266</td>\n",
       "      <td>0.197246</td>\n",
       "      <td>0.071865</td>\n",
       "      <td>0.030400</td>\n",
       "      <td>0.022248</td>\n",
       "      <td>0.321026</td>\n",
       "    </tr>\n",
       "    <tr>\n",
       "      <th>std</th>\n",
       "      <td>2.560949e+14</td>\n",
       "      <td>7.129575e+04</td>\n",
       "      <td>23.110205</td>\n",
       "      <td>0.297675</td>\n",
       "      <td>0.397921</td>\n",
       "      <td>0.258265</td>\n",
       "      <td>0.171686</td>\n",
       "      <td>0.161543</td>\n",
       "      <td>0.466873</td>\n",
       "    </tr>\n",
       "    <tr>\n",
       "      <th>min</th>\n",
       "      <td>3.921784e+04</td>\n",
       "      <td>5.030230e+06</td>\n",
       "      <td>-1.000000</td>\n",
       "      <td>0.000000</td>\n",
       "      <td>0.000000</td>\n",
       "      <td>0.000000</td>\n",
       "      <td>0.000000</td>\n",
       "      <td>0.000000</td>\n",
       "      <td>0.000000</td>\n",
       "    </tr>\n",
       "    <tr>\n",
       "      <th>25%</th>\n",
       "      <td>4.172614e+12</td>\n",
       "      <td>5.640286e+06</td>\n",
       "      <td>18.000000</td>\n",
       "      <td>0.000000</td>\n",
       "      <td>0.000000</td>\n",
       "      <td>0.000000</td>\n",
       "      <td>0.000000</td>\n",
       "      <td>0.000000</td>\n",
       "      <td>0.000000</td>\n",
       "    </tr>\n",
       "    <tr>\n",
       "      <th>50%</th>\n",
       "      <td>3.173184e+13</td>\n",
       "      <td>5.680573e+06</td>\n",
       "      <td>37.000000</td>\n",
       "      <td>0.000000</td>\n",
       "      <td>0.000000</td>\n",
       "      <td>0.000000</td>\n",
       "      <td>0.000000</td>\n",
       "      <td>0.000000</td>\n",
       "      <td>0.000000</td>\n",
       "    </tr>\n",
       "    <tr>\n",
       "      <th>75%</th>\n",
       "      <td>9.439172e+13</td>\n",
       "      <td>5.725524e+06</td>\n",
       "      <td>55.000000</td>\n",
       "      <td>0.000000</td>\n",
       "      <td>0.000000</td>\n",
       "      <td>0.000000</td>\n",
       "      <td>0.000000</td>\n",
       "      <td>0.000000</td>\n",
       "      <td>1.000000</td>\n",
       "    </tr>\n",
       "    <tr>\n",
       "      <th>max</th>\n",
       "      <td>9.999816e+14</td>\n",
       "      <td>5.790484e+06</td>\n",
       "      <td>115.000000</td>\n",
       "      <td>1.000000</td>\n",
       "      <td>1.000000</td>\n",
       "      <td>1.000000</td>\n",
       "      <td>1.000000</td>\n",
       "      <td>4.000000</td>\n",
       "      <td>1.000000</td>\n",
       "    </tr>\n",
       "  </tbody>\n",
       "</table>\n",
       "</div>"
      ],
      "text/plain": [
       "          PatientId  AppointmentID            Age    Scholarship  \\\n",
       "count  1.105270e+05   1.105270e+05  110527.000000  110527.000000   \n",
       "mean   1.474963e+14   5.675305e+06      37.088874       0.098266   \n",
       "std    2.560949e+14   7.129575e+04      23.110205       0.297675   \n",
       "min    3.921784e+04   5.030230e+06      -1.000000       0.000000   \n",
       "25%    4.172614e+12   5.640286e+06      18.000000       0.000000   \n",
       "50%    3.173184e+13   5.680573e+06      37.000000       0.000000   \n",
       "75%    9.439172e+13   5.725524e+06      55.000000       0.000000   \n",
       "max    9.999816e+14   5.790484e+06     115.000000       1.000000   \n",
       "\n",
       "        Hipertension       Diabetes     Alcoholism        Handcap  \\\n",
       "count  110527.000000  110527.000000  110527.000000  110527.000000   \n",
       "mean        0.197246       0.071865       0.030400       0.022248   \n",
       "std         0.397921       0.258265       0.171686       0.161543   \n",
       "min         0.000000       0.000000       0.000000       0.000000   \n",
       "25%         0.000000       0.000000       0.000000       0.000000   \n",
       "50%         0.000000       0.000000       0.000000       0.000000   \n",
       "75%         0.000000       0.000000       0.000000       0.000000   \n",
       "max         1.000000       1.000000       1.000000       4.000000   \n",
       "\n",
       "        SMS_received  \n",
       "count  110527.000000  \n",
       "mean        0.321026  \n",
       "std         0.466873  \n",
       "min         0.000000  \n",
       "25%         0.000000  \n",
       "50%         0.000000  \n",
       "75%         1.000000  \n",
       "max         1.000000  "
      ]
     },
     "execution_count": 5,
     "metadata": {},
     "output_type": "execute_result"
    }
   ],
   "source": [
    "# show a describtive statistics for the variables in the data frame\n",
    "df.describe()"
   ]
  },
  {
   "cell_type": "code",
   "execution_count": 6,
   "id": "b84f0c0d",
   "metadata": {
    "execution": {
     "iopub.execute_input": "2023-09-10T18:28:28.420298Z",
     "iopub.status.busy": "2023-09-10T18:28:28.419175Z",
     "iopub.status.idle": "2023-09-10T18:28:28.533230Z",
     "shell.execute_reply": "2023-09-10T18:28:28.532213Z"
    },
    "papermill": {
     "duration": 0.146546,
     "end_time": "2023-09-10T18:28:28.535281",
     "exception": false,
     "start_time": "2023-09-10T18:28:28.388735",
     "status": "completed"
    },
    "tags": []
   },
   "outputs": [
    {
     "data": {
      "text/plain": [
       "0"
      ]
     },
     "execution_count": 6,
     "metadata": {},
     "output_type": "execute_result"
    }
   ],
   "source": [
    "# check if there is duplicated data\n",
    "sum(df.duplicated())"
   ]
  },
  {
   "cell_type": "markdown",
   "id": "331d7523",
   "metadata": {
    "papermill": {
     "duration": 0.029062,
     "end_time": "2023-09-10T18:28:28.593756",
     "exception": false,
     "start_time": "2023-09-10T18:28:28.564694",
     "status": "completed"
    },
    "tags": []
   },
   "source": [
    "<a id='Cleaning'></a>\n",
    "## Data Cleaning\n",
    "\n",
    "> The data cleaning process involves the following based on the observation from the Data Wrangling section:\n",
    "**_renaming the columns which contains underscore_**, **_replacing the values of Age variable having 0 value with 0.5 value_**, **_dropping the row of Age variable with -1 value_**, **_replacing the values of Handcap variable >1 with a value= 1 as handcap variable should be either True or False_**"
   ]
  },
  {
   "cell_type": "code",
   "execution_count": 7,
   "id": "4cc3c4e8",
   "metadata": {
    "execution": {
     "iopub.execute_input": "2023-09-10T18:28:28.655860Z",
     "iopub.status.busy": "2023-09-10T18:28:28.655470Z",
     "iopub.status.idle": "2023-09-10T18:28:28.676233Z",
     "shell.execute_reply": "2023-09-10T18:28:28.675214Z"
    },
    "papermill": {
     "duration": 0.05469,
     "end_time": "2023-09-10T18:28:28.678479",
     "exception": false,
     "start_time": "2023-09-10T18:28:28.623789",
     "status": "completed"
    },
    "scrolled": true,
    "tags": []
   },
   "outputs": [
    {
     "data": {
      "text/html": [
       "<div>\n",
       "<style scoped>\n",
       "    .dataframe tbody tr th:only-of-type {\n",
       "        vertical-align: middle;\n",
       "    }\n",
       "\n",
       "    .dataframe tbody tr th {\n",
       "        vertical-align: top;\n",
       "    }\n",
       "\n",
       "    .dataframe thead th {\n",
       "        text-align: right;\n",
       "    }\n",
       "</style>\n",
       "<table border=\"1\" class=\"dataframe\">\n",
       "  <thead>\n",
       "    <tr style=\"text-align: right;\">\n",
       "      <th></th>\n",
       "      <th>Gender</th>\n",
       "      <th>ScheduledDay</th>\n",
       "      <th>AppointmentDay</th>\n",
       "      <th>Age</th>\n",
       "      <th>Scholarship</th>\n",
       "      <th>Hipertension</th>\n",
       "      <th>Diabetes</th>\n",
       "      <th>Alcoholism</th>\n",
       "      <th>Handcap</th>\n",
       "      <th>SMS_received</th>\n",
       "      <th>No-show</th>\n",
       "    </tr>\n",
       "  </thead>\n",
       "  <tbody>\n",
       "    <tr>\n",
       "      <th>0</th>\n",
       "      <td>F</td>\n",
       "      <td>2016-04-29T18:38:08Z</td>\n",
       "      <td>2016-04-29T00:00:00Z</td>\n",
       "      <td>62</td>\n",
       "      <td>0</td>\n",
       "      <td>1</td>\n",
       "      <td>0</td>\n",
       "      <td>0</td>\n",
       "      <td>0</td>\n",
       "      <td>0</td>\n",
       "      <td>No</td>\n",
       "    </tr>\n",
       "    <tr>\n",
       "      <th>1</th>\n",
       "      <td>M</td>\n",
       "      <td>2016-04-29T16:08:27Z</td>\n",
       "      <td>2016-04-29T00:00:00Z</td>\n",
       "      <td>56</td>\n",
       "      <td>0</td>\n",
       "      <td>0</td>\n",
       "      <td>0</td>\n",
       "      <td>0</td>\n",
       "      <td>0</td>\n",
       "      <td>0</td>\n",
       "      <td>No</td>\n",
       "    </tr>\n",
       "    <tr>\n",
       "      <th>2</th>\n",
       "      <td>F</td>\n",
       "      <td>2016-04-29T16:19:04Z</td>\n",
       "      <td>2016-04-29T00:00:00Z</td>\n",
       "      <td>62</td>\n",
       "      <td>0</td>\n",
       "      <td>0</td>\n",
       "      <td>0</td>\n",
       "      <td>0</td>\n",
       "      <td>0</td>\n",
       "      <td>0</td>\n",
       "      <td>No</td>\n",
       "    </tr>\n",
       "    <tr>\n",
       "      <th>3</th>\n",
       "      <td>F</td>\n",
       "      <td>2016-04-29T17:29:31Z</td>\n",
       "      <td>2016-04-29T00:00:00Z</td>\n",
       "      <td>8</td>\n",
       "      <td>0</td>\n",
       "      <td>0</td>\n",
       "      <td>0</td>\n",
       "      <td>0</td>\n",
       "      <td>0</td>\n",
       "      <td>0</td>\n",
       "      <td>No</td>\n",
       "    </tr>\n",
       "    <tr>\n",
       "      <th>4</th>\n",
       "      <td>F</td>\n",
       "      <td>2016-04-29T16:07:23Z</td>\n",
       "      <td>2016-04-29T00:00:00Z</td>\n",
       "      <td>56</td>\n",
       "      <td>0</td>\n",
       "      <td>1</td>\n",
       "      <td>1</td>\n",
       "      <td>0</td>\n",
       "      <td>0</td>\n",
       "      <td>0</td>\n",
       "      <td>No</td>\n",
       "    </tr>\n",
       "  </tbody>\n",
       "</table>\n",
       "</div>"
      ],
      "text/plain": [
       "  Gender          ScheduledDay        AppointmentDay  Age  Scholarship  \\\n",
       "0      F  2016-04-29T18:38:08Z  2016-04-29T00:00:00Z   62            0   \n",
       "1      M  2016-04-29T16:08:27Z  2016-04-29T00:00:00Z   56            0   \n",
       "2      F  2016-04-29T16:19:04Z  2016-04-29T00:00:00Z   62            0   \n",
       "3      F  2016-04-29T17:29:31Z  2016-04-29T00:00:00Z    8            0   \n",
       "4      F  2016-04-29T16:07:23Z  2016-04-29T00:00:00Z   56            0   \n",
       "\n",
       "   Hipertension  Diabetes  Alcoholism  Handcap  SMS_received No-show  \n",
       "0             1         0           0        0             0      No  \n",
       "1             0         0           0        0             0      No  \n",
       "2             0         0           0        0             0      No  \n",
       "3             0         0           0        0             0      No  \n",
       "4             1         1           0        0             0      No  "
      ]
     },
     "execution_count": 7,
     "metadata": {},
     "output_type": "execute_result"
    }
   ],
   "source": [
    "# After discussing the structure of the data and any problems that need to be\n",
    "#   cleaned, perform those cleaning steps in the second part of this section.\n",
    "# Drop the columns that will not be utilized in the analysis\n",
    "df.drop(columns=['PatientId','AppointmentID','Neighbourhood'], axis=1, inplace=True)\n",
    "df.head()"
   ]
  },
  {
   "cell_type": "code",
   "execution_count": 8,
   "id": "59c0beed",
   "metadata": {
    "execution": {
     "iopub.execute_input": "2023-09-10T18:28:28.740194Z",
     "iopub.status.busy": "2023-09-10T18:28:28.739248Z",
     "iopub.status.idle": "2023-09-10T18:28:28.753456Z",
     "shell.execute_reply": "2023-09-10T18:28:28.752530Z"
    },
    "papermill": {
     "duration": 0.04766,
     "end_time": "2023-09-10T18:28:28.755771",
     "exception": false,
     "start_time": "2023-09-10T18:28:28.708111",
     "status": "completed"
    },
    "tags": []
   },
   "outputs": [
    {
     "data": {
      "text/html": [
       "<div>\n",
       "<style scoped>\n",
       "    .dataframe tbody tr th:only-of-type {\n",
       "        vertical-align: middle;\n",
       "    }\n",
       "\n",
       "    .dataframe tbody tr th {\n",
       "        vertical-align: top;\n",
       "    }\n",
       "\n",
       "    .dataframe thead th {\n",
       "        text-align: right;\n",
       "    }\n",
       "</style>\n",
       "<table border=\"1\" class=\"dataframe\">\n",
       "  <thead>\n",
       "    <tr style=\"text-align: right;\">\n",
       "      <th></th>\n",
       "      <th>Gender</th>\n",
       "      <th>ScheduledDay</th>\n",
       "      <th>AppointmentDay</th>\n",
       "      <th>Age</th>\n",
       "      <th>Scholarship</th>\n",
       "      <th>Hipertension</th>\n",
       "      <th>Diabetes</th>\n",
       "      <th>Alcoholism</th>\n",
       "      <th>Handcap</th>\n",
       "      <th>SMSreceived</th>\n",
       "      <th>Noshow</th>\n",
       "    </tr>\n",
       "  </thead>\n",
       "  <tbody>\n",
       "    <tr>\n",
       "      <th>0</th>\n",
       "      <td>F</td>\n",
       "      <td>2016-04-29T18:38:08Z</td>\n",
       "      <td>2016-04-29T00:00:00Z</td>\n",
       "      <td>62</td>\n",
       "      <td>0</td>\n",
       "      <td>1</td>\n",
       "      <td>0</td>\n",
       "      <td>0</td>\n",
       "      <td>0</td>\n",
       "      <td>0</td>\n",
       "      <td>No</td>\n",
       "    </tr>\n",
       "  </tbody>\n",
       "</table>\n",
       "</div>"
      ],
      "text/plain": [
       "  Gender          ScheduledDay        AppointmentDay  Age  Scholarship  \\\n",
       "0      F  2016-04-29T18:38:08Z  2016-04-29T00:00:00Z   62            0   \n",
       "\n",
       "   Hipertension  Diabetes  Alcoholism  Handcap  SMSreceived Noshow  \n",
       "0             1         0           0        0            0     No  "
      ]
     },
     "execution_count": 8,
     "metadata": {},
     "output_type": "execute_result"
    }
   ],
   "source": [
    "# rename the columns names which contains underscore, to facilitate using those names in analysis\n",
    "df.rename(columns={'No-show':'Noshow', 'SMS_received':'SMSreceived'}, inplace=True)\n",
    "df.head(1)"
   ]
  },
  {
   "cell_type": "code",
   "execution_count": 9,
   "id": "db09e70b",
   "metadata": {
    "execution": {
     "iopub.execute_input": "2023-09-10T18:28:28.817778Z",
     "iopub.status.busy": "2023-09-10T18:28:28.816720Z",
     "iopub.status.idle": "2023-09-10T18:28:29.816491Z",
     "shell.execute_reply": "2023-09-10T18:28:29.815565Z"
    },
    "papermill": {
     "duration": 1.03317,
     "end_time": "2023-09-10T18:28:29.818896",
     "exception": false,
     "start_time": "2023-09-10T18:28:28.785726",
     "status": "completed"
    },
    "tags": []
   },
   "outputs": [
    {
     "data": {
      "image/png": "[encoded data removed]",
      "text/plain": [
       "<Figure size 1080x720 with 9 Axes>"
      ]
     },
     "metadata": {
      "needs_background": "light"
     },
     "output_type": "display_data"
    }
   ],
   "source": [
    "# create a histogram for all variable in dataframe\n",
    "df.hist(figsize=(15,10));"
   ]
  },
  {
   "cell_type": "code",
   "execution_count": 10,
   "id": "7cc1f4b4",
   "metadata": {
    "execution": {
     "iopub.execute_input": "2023-09-10T18:28:29.881654Z",
     "iopub.status.busy": "2023-09-10T18:28:29.881258Z",
     "iopub.status.idle": "2023-09-10T18:28:29.905366Z",
     "shell.execute_reply": "2023-09-10T18:28:29.904393Z"
    },
    "papermill": {
     "duration": 0.058213,
     "end_time": "2023-09-10T18:28:29.907543",
     "exception": false,
     "start_time": "2023-09-10T18:28:29.849330",
     "status": "completed"
    },
    "scrolled": true,
    "tags": []
   },
   "outputs": [
    {
     "data": {
      "text/html": [
       "<div>\n",
       "<style scoped>\n",
       "    .dataframe tbody tr th:only-of-type {\n",
       "        vertical-align: middle;\n",
       "    }\n",
       "\n",
       "    .dataframe tbody tr th {\n",
       "        vertical-align: top;\n",
       "    }\n",
       "\n",
       "    .dataframe thead th {\n",
       "        text-align: right;\n",
       "    }\n",
       "</style>\n",
       "<table border=\"1\" class=\"dataframe\">\n",
       "  <thead>\n",
       "    <tr style=\"text-align: right;\">\n",
       "      <th></th>\n",
       "      <th>Gender</th>\n",
       "      <th>ScheduledDay</th>\n",
       "      <th>AppointmentDay</th>\n",
       "      <th>Age</th>\n",
       "      <th>Scholarship</th>\n",
       "      <th>Hipertension</th>\n",
       "      <th>Diabetes</th>\n",
       "      <th>Alcoholism</th>\n",
       "      <th>Handcap</th>\n",
       "      <th>SMSreceived</th>\n",
       "      <th>Noshow</th>\n",
       "    </tr>\n",
       "  </thead>\n",
       "  <tbody>\n",
       "    <tr>\n",
       "      <th>59</th>\n",
       "      <td>F</td>\n",
       "      <td>2016-04-29T08:08:43Z</td>\n",
       "      <td>2016-04-29T00:00:00Z</td>\n",
       "      <td>0</td>\n",
       "      <td>0</td>\n",
       "      <td>0</td>\n",
       "      <td>0</td>\n",
       "      <td>0</td>\n",
       "      <td>0</td>\n",
       "      <td>0</td>\n",
       "      <td>No</td>\n",
       "    </tr>\n",
       "    <tr>\n",
       "      <th>63</th>\n",
       "      <td>M</td>\n",
       "      <td>2016-04-27T10:46:12Z</td>\n",
       "      <td>2016-04-29T00:00:00Z</td>\n",
       "      <td>0</td>\n",
       "      <td>0</td>\n",
       "      <td>0</td>\n",
       "      <td>0</td>\n",
       "      <td>0</td>\n",
       "      <td>0</td>\n",
       "      <td>0</td>\n",
       "      <td>No</td>\n",
       "    </tr>\n",
       "    <tr>\n",
       "      <th>64</th>\n",
       "      <td>M</td>\n",
       "      <td>2016-04-25T13:28:21Z</td>\n",
       "      <td>2016-04-29T00:00:00Z</td>\n",
       "      <td>0</td>\n",
       "      <td>0</td>\n",
       "      <td>0</td>\n",
       "      <td>0</td>\n",
       "      <td>0</td>\n",
       "      <td>0</td>\n",
       "      <td>1</td>\n",
       "      <td>No</td>\n",
       "    </tr>\n",
       "    <tr>\n",
       "      <th>65</th>\n",
       "      <td>M</td>\n",
       "      <td>2016-04-27T10:48:50Z</td>\n",
       "      <td>2016-04-29T00:00:00Z</td>\n",
       "      <td>0</td>\n",
       "      <td>0</td>\n",
       "      <td>0</td>\n",
       "      <td>0</td>\n",
       "      <td>0</td>\n",
       "      <td>0</td>\n",
       "      <td>0</td>\n",
       "      <td>No</td>\n",
       "    </tr>\n",
       "    <tr>\n",
       "      <th>67</th>\n",
       "      <td>F</td>\n",
       "      <td>2016-04-29T08:53:02Z</td>\n",
       "      <td>2016-04-29T00:00:00Z</td>\n",
       "      <td>0</td>\n",
       "      <td>0</td>\n",
       "      <td>0</td>\n",
       "      <td>0</td>\n",
       "      <td>0</td>\n",
       "      <td>0</td>\n",
       "      <td>0</td>\n",
       "      <td>No</td>\n",
       "    </tr>\n",
       "    <tr>\n",
       "      <th>...</th>\n",
       "      <td>...</td>\n",
       "      <td>...</td>\n",
       "      <td>...</td>\n",
       "      <td>...</td>\n",
       "      <td>...</td>\n",
       "      <td>...</td>\n",
       "      <td>...</td>\n",
       "      <td>...</td>\n",
       "      <td>...</td>\n",
       "      <td>...</td>\n",
       "      <td>...</td>\n",
       "    </tr>\n",
       "    <tr>\n",
       "      <th>110345</th>\n",
       "      <td>F</td>\n",
       "      <td>2016-05-16T12:30:58Z</td>\n",
       "      <td>2016-06-01T00:00:00Z</td>\n",
       "      <td>0</td>\n",
       "      <td>0</td>\n",
       "      <td>0</td>\n",
       "      <td>0</td>\n",
       "      <td>0</td>\n",
       "      <td>0</td>\n",
       "      <td>0</td>\n",
       "      <td>No</td>\n",
       "    </tr>\n",
       "    <tr>\n",
       "      <th>110346</th>\n",
       "      <td>M</td>\n",
       "      <td>2016-06-06T14:22:34Z</td>\n",
       "      <td>2016-06-08T00:00:00Z</td>\n",
       "      <td>0</td>\n",
       "      <td>0</td>\n",
       "      <td>0</td>\n",
       "      <td>0</td>\n",
       "      <td>0</td>\n",
       "      <td>0</td>\n",
       "      <td>0</td>\n",
       "      <td>No</td>\n",
       "    </tr>\n",
       "    <tr>\n",
       "      <th>110454</th>\n",
       "      <td>F</td>\n",
       "      <td>2016-06-03T15:18:44Z</td>\n",
       "      <td>2016-06-03T00:00:00Z</td>\n",
       "      <td>0</td>\n",
       "      <td>0</td>\n",
       "      <td>0</td>\n",
       "      <td>0</td>\n",
       "      <td>0</td>\n",
       "      <td>0</td>\n",
       "      <td>0</td>\n",
       "      <td>No</td>\n",
       "    </tr>\n",
       "    <tr>\n",
       "      <th>110460</th>\n",
       "      <td>F</td>\n",
       "      <td>2016-06-03T08:56:51Z</td>\n",
       "      <td>2016-06-03T00:00:00Z</td>\n",
       "      <td>0</td>\n",
       "      <td>0</td>\n",
       "      <td>0</td>\n",
       "      <td>0</td>\n",
       "      <td>0</td>\n",
       "      <td>0</td>\n",
       "      <td>0</td>\n",
       "      <td>No</td>\n",
       "    </tr>\n",
       "    <tr>\n",
       "      <th>110507</th>\n",
       "      <td>F</td>\n",
       "      <td>2016-06-08T09:04:18Z</td>\n",
       "      <td>2016-06-08T00:00:00Z</td>\n",
       "      <td>0</td>\n",
       "      <td>0</td>\n",
       "      <td>0</td>\n",
       "      <td>0</td>\n",
       "      <td>0</td>\n",
       "      <td>0</td>\n",
       "      <td>0</td>\n",
       "      <td>No</td>\n",
       "    </tr>\n",
       "  </tbody>\n",
       "</table>\n",
       "<p>3540 rows × 11 columns</p>\n",
       "</div>"
      ],
      "text/plain": [
       "       Gender          ScheduledDay        AppointmentDay  Age  Scholarship  \\\n",
       "59          F  2016-04-29T08:08:43Z  2016-04-29T00:00:00Z    0            0   \n",
       "63          M  2016-04-27T10:46:12Z  2016-04-29T00:00:00Z    0            0   \n",
       "64          M  2016-04-25T13:28:21Z  2016-04-29T00:00:00Z    0            0   \n",
       "65          M  2016-04-27T10:48:50Z  2016-04-29T00:00:00Z    0            0   \n",
       "67          F  2016-04-29T08:53:02Z  2016-04-29T00:00:00Z    0            0   \n",
       "...       ...                   ...                   ...  ...          ...   \n",
       "110345      F  2016-05-16T12:30:58Z  2016-06-01T00:00:00Z    0            0   \n",
       "110346      M  2016-06-06T14:22:34Z  2016-06-08T00:00:00Z    0            0   \n",
       "110454      F  2016-06-03T15:18:44Z  2016-06-03T00:00:00Z    0            0   \n",
       "110460      F  2016-06-03T08:56:51Z  2016-06-03T00:00:00Z    0            0   \n",
       "110507      F  2016-06-08T09:04:18Z  2016-06-08T00:00:00Z    0            0   \n",
       "\n",
       "        Hipertension  Diabetes  Alcoholism  Handcap  SMSreceived Noshow  \n",
       "59                 0         0           0        0            0     No  \n",
       "63                 0         0           0        0            0     No  \n",
       "64                 0         0           0        0            1     No  \n",
       "65                 0         0           0        0            0     No  \n",
       "67                 0         0           0        0            0     No  \n",
       "...              ...       ...         ...      ...          ...    ...  \n",
       "110345             0         0           0        0            0     No  \n",
       "110346             0         0           0        0            0     No  \n",
       "110454             0         0           0        0            0     No  \n",
       "110460             0         0           0        0            0     No  \n",
       "110507             0         0           0        0            0     No  \n",
       "\n",
       "[3540 rows x 11 columns]"
      ]
     },
     "execution_count": 10,
     "metadata": {},
     "output_type": "execute_result"
    }
   ],
   "source": [
    "# The describtive statistics shows the Age minimum value = -1. Dsiplay the rows with Age <0 \n",
    "df.query('Age <= 0')"
   ]
  },
  {
   "cell_type": "code",
   "execution_count": 11,
   "id": "40f76429",
   "metadata": {
    "execution": {
     "iopub.execute_input": "2023-09-10T18:28:29.971061Z",
     "iopub.status.busy": "2023-09-10T18:28:29.970646Z",
     "iopub.status.idle": "2023-09-10T18:28:30.004949Z",
     "shell.execute_reply": "2023-09-10T18:28:30.004015Z"
    },
    "papermill": {
     "duration": 0.068563,
     "end_time": "2023-09-10T18:28:30.007012",
     "exception": false,
     "start_time": "2023-09-10T18:28:29.938449",
     "status": "completed"
    },
    "scrolled": true,
    "tags": []
   },
   "outputs": [
    {
     "data": {
      "text/plain": [
       "Age   Noshow\n",
       "-1    No           1\n",
       " 0    No        2900\n",
       "      Yes        639\n",
       " 1    No        1858\n",
       "      Yes        415\n",
       "                ... \n",
       " 99   No           1\n",
       " 100  No           4\n",
       " 102  No           2\n",
       " 115  Yes          3\n",
       "      No           2\n",
       "Name: Noshow, Length: 204, dtype: int64"
      ]
     },
     "execution_count": 11,
     "metadata": {},
     "output_type": "execute_result"
    }
   ],
   "source": [
    "# check the values and counts of Age variable. it seems the count of 0 Age close to the count of 1 year old.\n",
    "# this could be infants with less than 1 year old. \n",
    "df.groupby('Age')['Noshow'].value_counts()"
   ]
  },
  {
   "cell_type": "code",
   "execution_count": 12,
   "id": "84545bd9",
   "metadata": {
    "execution": {
     "iopub.execute_input": "2023-09-10T18:28:30.071401Z",
     "iopub.status.busy": "2023-09-10T18:28:30.070716Z",
     "iopub.status.idle": "2023-09-10T18:28:30.079880Z",
     "shell.execute_reply": "2023-09-10T18:28:30.079190Z"
    },
    "papermill": {
     "duration": 0.043771,
     "end_time": "2023-09-10T18:28:30.082006",
     "exception": false,
     "start_time": "2023-09-10T18:28:30.038235",
     "status": "completed"
    },
    "tags": []
   },
   "outputs": [],
   "source": [
    "# The value of 0 Age will be changed with 0.5 (6 month) as the number of patients with 0 value who showup around 2900.\n",
    "# hence this number con not be ignored.\n",
    "df.Age = df['Age'].replace(df['Age'].value_counts().index[0],0.5)"
   ]
  },
  {
   "cell_type": "code",
   "execution_count": 13,
   "id": "e7456c60",
   "metadata": {
    "execution": {
     "iopub.execute_input": "2023-09-10T18:28:30.146297Z",
     "iopub.status.busy": "2023-09-10T18:28:30.145629Z",
     "iopub.status.idle": "2023-09-10T18:28:30.169071Z",
     "shell.execute_reply": "2023-09-10T18:28:30.168322Z"
    },
    "papermill": {
     "duration": 0.058207,
     "end_time": "2023-09-10T18:28:30.171372",
     "exception": false,
     "start_time": "2023-09-10T18:28:30.113165",
     "status": "completed"
    },
    "tags": []
   },
   "outputs": [],
   "source": [
    "# drop the row with Age value = -1\n",
    "df.drop(index=df[df.Age < 0].index, axis=0, inplace=True)"
   ]
  },
  {
   "cell_type": "code",
   "execution_count": 14,
   "id": "bd00ac0a",
   "metadata": {
    "execution": {
     "iopub.execute_input": "2023-09-10T18:28:30.237600Z",
     "iopub.status.busy": "2023-09-10T18:28:30.236916Z",
     "iopub.status.idle": "2023-09-10T18:28:30.271665Z",
     "shell.execute_reply": "2023-09-10T18:28:30.270676Z"
    },
    "papermill": {
     "duration": 0.069365,
     "end_time": "2023-09-10T18:28:30.273735",
     "exception": false,
     "start_time": "2023-09-10T18:28:30.204370",
     "status": "completed"
    },
    "tags": []
   },
   "outputs": [
    {
     "data": {
      "text/plain": [
       "Age    Noshow\n",
       "0.5    No        2900\n",
       "       Yes        639\n",
       "1.0    No        1858\n",
       "       Yes        415\n",
       "2.0    No        1366\n",
       "                 ... \n",
       "99.0   No           1\n",
       "100.0  No           4\n",
       "102.0  No           2\n",
       "115.0  Yes          3\n",
       "       No           2\n",
       "Name: Noshow, Length: 203, dtype: int64"
      ]
     },
     "execution_count": 14,
     "metadata": {},
     "output_type": "execute_result"
    }
   ],
   "source": [
    "# verify the values and counts of the Age variable after modification\n",
    "df.groupby('Age')['Noshow'].value_counts()"
   ]
  },
  {
   "cell_type": "code",
   "execution_count": 15,
   "id": "6304e60d",
   "metadata": {
    "execution": {
     "iopub.execute_input": "2023-09-10T18:28:30.337893Z",
     "iopub.status.busy": "2023-09-10T18:28:30.337475Z",
     "iopub.status.idle": "2023-09-10T18:28:30.343422Z",
     "shell.execute_reply": "2023-09-10T18:28:30.342376Z"
    },
    "papermill": {
     "duration": 0.040429,
     "end_time": "2023-09-10T18:28:30.345419",
     "exception": false,
     "start_time": "2023-09-10T18:28:30.304990",
     "status": "completed"
    },
    "tags": []
   },
   "outputs": [
    {
     "data": {
      "text/plain": [
       "(110526, 11)"
      ]
     },
     "execution_count": 15,
     "metadata": {},
     "output_type": "execute_result"
    }
   ],
   "source": [
    "# display the dimensions of the df after removing the Age row with -1 value\n",
    "df.shape"
   ]
  },
  {
   "cell_type": "code",
   "execution_count": 16,
   "id": "a056fe2a",
   "metadata": {
    "execution": {
     "iopub.execute_input": "2023-09-10T18:28:30.412914Z",
     "iopub.status.busy": "2023-09-10T18:28:30.412460Z",
     "iopub.status.idle": "2023-09-10T18:28:30.437026Z",
     "shell.execute_reply": "2023-09-10T18:28:30.436175Z"
    },
    "papermill": {
     "duration": 0.061722,
     "end_time": "2023-09-10T18:28:30.439035",
     "exception": false,
     "start_time": "2023-09-10T18:28:30.377313",
     "status": "completed"
    },
    "tags": []
   },
   "outputs": [
    {
     "data": {
      "text/plain": [
       "Handcap  Noshow\n",
       "0        No        86373\n",
       "         Yes       21912\n",
       "1        No         1676\n",
       "         Yes         366\n",
       "2        No          146\n",
       "         Yes          37\n",
       "3        No           10\n",
       "         Yes           3\n",
       "4        No            2\n",
       "         Yes           1\n",
       "Name: Noshow, dtype: int64"
      ]
     },
     "execution_count": 16,
     "metadata": {},
     "output_type": "execute_result"
    }
   ],
   "source": [
    "# display the counts of Handcap with showup/No showup condition. \n",
    "df.groupby('Handcap')['Noshow'].value_counts()"
   ]
  },
  {
   "cell_type": "markdown",
   "id": "5c83fbb8",
   "metadata": {
    "papermill": {
     "duration": 0.031028,
     "end_time": "2023-09-10T18:28:30.501944",
     "exception": false,
     "start_time": "2023-09-10T18:28:30.470916",
     "status": "completed"
    },
    "tags": []
   },
   "source": [
    ">The counts of Handcap >1 is around 199.\n",
    " it can be either deleted from data set due to its small size compared to the dataset size. But it is prefered to keep it but change its value to be 1"
   ]
  },
  {
   "cell_type": "code",
   "execution_count": 17,
   "id": "6f469ed4",
   "metadata": {
    "execution": {
     "iopub.execute_input": "2023-09-10T18:28:30.566725Z",
     "iopub.status.busy": "2023-09-10T18:28:30.566303Z",
     "iopub.status.idle": "2023-09-10T18:28:30.588367Z",
     "shell.execute_reply": "2023-09-10T18:28:30.587720Z"
    },
    "papermill": {
     "duration": 0.056752,
     "end_time": "2023-09-10T18:28:30.590120",
     "exception": false,
     "start_time": "2023-09-10T18:28:30.533368",
     "status": "completed"
    },
    "tags": []
   },
   "outputs": [
    {
     "data": {
      "text/html": [
       "<div>\n",
       "<style scoped>\n",
       "    .dataframe tbody tr th:only-of-type {\n",
       "        vertical-align: middle;\n",
       "    }\n",
       "\n",
       "    .dataframe tbody tr th {\n",
       "        vertical-align: top;\n",
       "    }\n",
       "\n",
       "    .dataframe thead th {\n",
       "        text-align: right;\n",
       "    }\n",
       "</style>\n",
       "<table border=\"1\" class=\"dataframe\">\n",
       "  <thead>\n",
       "    <tr style=\"text-align: right;\">\n",
       "      <th></th>\n",
       "      <th>Gender</th>\n",
       "      <th>ScheduledDay</th>\n",
       "      <th>AppointmentDay</th>\n",
       "      <th>Age</th>\n",
       "      <th>Scholarship</th>\n",
       "      <th>Hipertension</th>\n",
       "      <th>Diabetes</th>\n",
       "      <th>Alcoholism</th>\n",
       "      <th>Handcap</th>\n",
       "      <th>SMSreceived</th>\n",
       "      <th>Noshow</th>\n",
       "    </tr>\n",
       "  </thead>\n",
       "  <tbody>\n",
       "    <tr>\n",
       "      <th>946</th>\n",
       "      <td>M</td>\n",
       "      <td>2016-04-14T09:26:08Z</td>\n",
       "      <td>2016-04-29T00:00:00Z</td>\n",
       "      <td>94.0</td>\n",
       "      <td>0</td>\n",
       "      <td>1</td>\n",
       "      <td>1</td>\n",
       "      <td>0</td>\n",
       "      <td>2</td>\n",
       "      <td>1</td>\n",
       "      <td>No</td>\n",
       "    </tr>\n",
       "    <tr>\n",
       "      <th>1665</th>\n",
       "      <td>M</td>\n",
       "      <td>2016-03-30T09:16:41Z</td>\n",
       "      <td>2016-04-29T00:00:00Z</td>\n",
       "      <td>64.0</td>\n",
       "      <td>0</td>\n",
       "      <td>1</td>\n",
       "      <td>0</td>\n",
       "      <td>1</td>\n",
       "      <td>2</td>\n",
       "      <td>1</td>\n",
       "      <td>No</td>\n",
       "    </tr>\n",
       "    <tr>\n",
       "      <th>1666</th>\n",
       "      <td>M</td>\n",
       "      <td>2016-03-30T09:16:41Z</td>\n",
       "      <td>2016-04-29T00:00:00Z</td>\n",
       "      <td>64.0</td>\n",
       "      <td>0</td>\n",
       "      <td>1</td>\n",
       "      <td>0</td>\n",
       "      <td>1</td>\n",
       "      <td>2</td>\n",
       "      <td>0</td>\n",
       "      <td>No</td>\n",
       "    </tr>\n",
       "    <tr>\n",
       "      <th>2071</th>\n",
       "      <td>M</td>\n",
       "      <td>2016-04-29T10:08:48Z</td>\n",
       "      <td>2016-04-29T00:00:00Z</td>\n",
       "      <td>64.0</td>\n",
       "      <td>0</td>\n",
       "      <td>1</td>\n",
       "      <td>0</td>\n",
       "      <td>1</td>\n",
       "      <td>2</td>\n",
       "      <td>0</td>\n",
       "      <td>No</td>\n",
       "    </tr>\n",
       "    <tr>\n",
       "      <th>2091</th>\n",
       "      <td>F</td>\n",
       "      <td>2016-04-29T08:13:59Z</td>\n",
       "      <td>2016-04-29T00:00:00Z</td>\n",
       "      <td>11.0</td>\n",
       "      <td>0</td>\n",
       "      <td>0</td>\n",
       "      <td>0</td>\n",
       "      <td>0</td>\n",
       "      <td>2</td>\n",
       "      <td>0</td>\n",
       "      <td>No</td>\n",
       "    </tr>\n",
       "    <tr>\n",
       "      <th>...</th>\n",
       "      <td>...</td>\n",
       "      <td>...</td>\n",
       "      <td>...</td>\n",
       "      <td>...</td>\n",
       "      <td>...</td>\n",
       "      <td>...</td>\n",
       "      <td>...</td>\n",
       "      <td>...</td>\n",
       "      <td>...</td>\n",
       "      <td>...</td>\n",
       "      <td>...</td>\n",
       "    </tr>\n",
       "    <tr>\n",
       "      <th>108376</th>\n",
       "      <td>F</td>\n",
       "      <td>2016-06-01T08:48:28Z</td>\n",
       "      <td>2016-06-07T00:00:00Z</td>\n",
       "      <td>44.0</td>\n",
       "      <td>0</td>\n",
       "      <td>1</td>\n",
       "      <td>1</td>\n",
       "      <td>0</td>\n",
       "      <td>2</td>\n",
       "      <td>1</td>\n",
       "      <td>No</td>\n",
       "    </tr>\n",
       "    <tr>\n",
       "      <th>109484</th>\n",
       "      <td>M</td>\n",
       "      <td>2016-05-31T11:45:57Z</td>\n",
       "      <td>2016-06-02T00:00:00Z</td>\n",
       "      <td>64.0</td>\n",
       "      <td>0</td>\n",
       "      <td>1</td>\n",
       "      <td>1</td>\n",
       "      <td>0</td>\n",
       "      <td>2</td>\n",
       "      <td>0</td>\n",
       "      <td>No</td>\n",
       "    </tr>\n",
       "    <tr>\n",
       "      <th>109733</th>\n",
       "      <td>F</td>\n",
       "      <td>2016-06-03T16:11:00Z</td>\n",
       "      <td>2016-06-07T00:00:00Z</td>\n",
       "      <td>34.0</td>\n",
       "      <td>0</td>\n",
       "      <td>0</td>\n",
       "      <td>0</td>\n",
       "      <td>0</td>\n",
       "      <td>2</td>\n",
       "      <td>1</td>\n",
       "      <td>No</td>\n",
       "    </tr>\n",
       "    <tr>\n",
       "      <th>109975</th>\n",
       "      <td>M</td>\n",
       "      <td>2016-06-02T16:07:36Z</td>\n",
       "      <td>2016-06-06T00:00:00Z</td>\n",
       "      <td>39.0</td>\n",
       "      <td>1</td>\n",
       "      <td>0</td>\n",
       "      <td>0</td>\n",
       "      <td>0</td>\n",
       "      <td>2</td>\n",
       "      <td>1</td>\n",
       "      <td>No</td>\n",
       "    </tr>\n",
       "    <tr>\n",
       "      <th>110107</th>\n",
       "      <td>F</td>\n",
       "      <td>2016-06-02T06:44:00Z</td>\n",
       "      <td>2016-06-06T00:00:00Z</td>\n",
       "      <td>44.0</td>\n",
       "      <td>0</td>\n",
       "      <td>0</td>\n",
       "      <td>0</td>\n",
       "      <td>0</td>\n",
       "      <td>2</td>\n",
       "      <td>1</td>\n",
       "      <td>No</td>\n",
       "    </tr>\n",
       "  </tbody>\n",
       "</table>\n",
       "<p>199 rows × 11 columns</p>\n",
       "</div>"
      ],
      "text/plain": [
       "       Gender          ScheduledDay        AppointmentDay   Age  Scholarship  \\\n",
       "946         M  2016-04-14T09:26:08Z  2016-04-29T00:00:00Z  94.0            0   \n",
       "1665        M  2016-03-30T09:16:41Z  2016-04-29T00:00:00Z  64.0            0   \n",
       "1666        M  2016-03-30T09:16:41Z  2016-04-29T00:00:00Z  64.0            0   \n",
       "2071        M  2016-04-29T10:08:48Z  2016-04-29T00:00:00Z  64.0            0   \n",
       "2091        F  2016-04-29T08:13:59Z  2016-04-29T00:00:00Z  11.0            0   \n",
       "...       ...                   ...                   ...   ...          ...   \n",
       "108376      F  2016-06-01T08:48:28Z  2016-06-07T00:00:00Z  44.0            0   \n",
       "109484      M  2016-05-31T11:45:57Z  2016-06-02T00:00:00Z  64.0            0   \n",
       "109733      F  2016-06-03T16:11:00Z  2016-06-07T00:00:00Z  34.0            0   \n",
       "109975      M  2016-06-02T16:07:36Z  2016-06-06T00:00:00Z  39.0            1   \n",
       "110107      F  2016-06-02T06:44:00Z  2016-06-06T00:00:00Z  44.0            0   \n",
       "\n",
       "        Hipertension  Diabetes  Alcoholism  Handcap  SMSreceived Noshow  \n",
       "946                1         1           0        2            1     No  \n",
       "1665               1         0           1        2            1     No  \n",
       "1666               1         0           1        2            0     No  \n",
       "2071               1         0           1        2            0     No  \n",
       "2091               0         0           0        2            0     No  \n",
       "...              ...       ...         ...      ...          ...    ...  \n",
       "108376             1         1           0        2            1     No  \n",
       "109484             1         1           0        2            0     No  \n",
       "109733             0         0           0        2            1     No  \n",
       "109975             0         0           0        2            1     No  \n",
       "110107             0         0           0        2            1     No  \n",
       "\n",
       "[199 rows x 11 columns]"
      ]
     },
     "execution_count": 17,
     "metadata": {},
     "output_type": "execute_result"
    }
   ],
   "source": [
    "# The describtive statistics shows Handcap max value =4, wheraas, it should be 0 or 1 (True or false). di\n",
    "# Display the dataframe with handcap values > 1\n",
    "df.query(\"Handcap > 1\")"
   ]
  },
  {
   "cell_type": "code",
   "execution_count": 18,
   "id": "0e7d3c65",
   "metadata": {
    "execution": {
     "iopub.execute_input": "2023-09-10T18:28:30.656608Z",
     "iopub.status.busy": "2023-09-10T18:28:30.655828Z",
     "iopub.status.idle": "2023-09-10T18:28:30.664072Z",
     "shell.execute_reply": "2023-09-10T18:28:30.663184Z"
    },
    "papermill": {
     "duration": 0.044345,
     "end_time": "2023-09-10T18:28:30.666156",
     "exception": false,
     "start_time": "2023-09-10T18:28:30.621811",
     "status": "completed"
    },
    "tags": []
   },
   "outputs": [
    {
     "data": {
      "text/plain": [
       "0    108285\n",
       "1      2042\n",
       "2       183\n",
       "3        13\n",
       "4         3\n",
       "Name: Handcap, dtype: int64"
      ]
     },
     "execution_count": 18,
     "metadata": {},
     "output_type": "execute_result"
    }
   ],
   "source": [
    "# display the values for Handcap variable\n",
    "df['Handcap'].value_counts()"
   ]
  },
  {
   "cell_type": "code",
   "execution_count": 19,
   "id": "0e2e1811",
   "metadata": {
    "execution": {
     "iopub.execute_input": "2023-09-10T18:28:30.731564Z",
     "iopub.status.busy": "2023-09-10T18:28:30.731140Z",
     "iopub.status.idle": "2023-09-10T18:28:30.739476Z",
     "shell.execute_reply": "2023-09-10T18:28:30.738593Z"
    },
    "papermill": {
     "duration": 0.043481,
     "end_time": "2023-09-10T18:28:30.741605",
     "exception": false,
     "start_time": "2023-09-10T18:28:30.698124",
     "status": "completed"
    },
    "tags": []
   },
   "outputs": [],
   "source": [
    "# Replace the values of Handcap with values > 1 to 1\n",
    "df.Handcap = df['Handcap'].replace(df['Handcap'].value_counts().index[2:],1)"
   ]
  },
  {
   "cell_type": "code",
   "execution_count": 20,
   "id": "d8249b6e",
   "metadata": {
    "execution": {
     "iopub.execute_input": "2023-09-10T18:28:30.807379Z",
     "iopub.status.busy": "2023-09-10T18:28:30.806938Z",
     "iopub.status.idle": "2023-09-10T18:28:30.820503Z",
     "shell.execute_reply": "2023-09-10T18:28:30.819466Z"
    },
    "papermill": {
     "duration": 0.048902,
     "end_time": "2023-09-10T18:28:30.822460",
     "exception": false,
     "start_time": "2023-09-10T18:28:30.773558",
     "status": "completed"
    },
    "tags": []
   },
   "outputs": [
    {
     "data": {
      "text/html": [
       "<div>\n",
       "<style scoped>\n",
       "    .dataframe tbody tr th:only-of-type {\n",
       "        vertical-align: middle;\n",
       "    }\n",
       "\n",
       "    .dataframe tbody tr th {\n",
       "        vertical-align: top;\n",
       "    }\n",
       "\n",
       "    .dataframe thead th {\n",
       "        text-align: right;\n",
       "    }\n",
       "</style>\n",
       "<table border=\"1\" class=\"dataframe\">\n",
       "  <thead>\n",
       "    <tr style=\"text-align: right;\">\n",
       "      <th></th>\n",
       "      <th>Gender</th>\n",
       "      <th>ScheduledDay</th>\n",
       "      <th>AppointmentDay</th>\n",
       "      <th>Age</th>\n",
       "      <th>Scholarship</th>\n",
       "      <th>Hipertension</th>\n",
       "      <th>Diabetes</th>\n",
       "      <th>Alcoholism</th>\n",
       "      <th>Handcap</th>\n",
       "      <th>SMSreceived</th>\n",
       "      <th>Noshow</th>\n",
       "    </tr>\n",
       "  </thead>\n",
       "  <tbody>\n",
       "  </tbody>\n",
       "</table>\n",
       "</div>"
      ],
      "text/plain": [
       "Empty DataFrame\n",
       "Columns: [Gender, ScheduledDay, AppointmentDay, Age, Scholarship, Hipertension, Diabetes, Alcoholism, Handcap, SMSreceived, Noshow]\n",
       "Index: []"
      ]
     },
     "execution_count": 20,
     "metadata": {},
     "output_type": "execute_result"
    }
   ],
   "source": [
    "# verify whether there are handcap values > 1\n",
    "df.query(\"Handcap > 1\")"
   ]
  },
  {
   "cell_type": "code",
   "execution_count": 21,
   "id": "7a6c2d82",
   "metadata": {
    "execution": {
     "iopub.execute_input": "2023-09-10T18:28:30.889455Z",
     "iopub.status.busy": "2023-09-10T18:28:30.888748Z",
     "iopub.status.idle": "2023-09-10T18:28:30.938962Z",
     "shell.execute_reply": "2023-09-10T18:28:30.937988Z"
    },
    "papermill": {
     "duration": 0.086269,
     "end_time": "2023-09-10T18:28:30.940900",
     "exception": false,
     "start_time": "2023-09-10T18:28:30.854631",
     "status": "completed"
    },
    "tags": []
   },
   "outputs": [
    {
     "data": {
      "text/html": [
       "<div>\n",
       "<style scoped>\n",
       "    .dataframe tbody tr th:only-of-type {\n",
       "        vertical-align: middle;\n",
       "    }\n",
       "\n",
       "    .dataframe tbody tr th {\n",
       "        vertical-align: top;\n",
       "    }\n",
       "\n",
       "    .dataframe thead th {\n",
       "        text-align: right;\n",
       "    }\n",
       "</style>\n",
       "<table border=\"1\" class=\"dataframe\">\n",
       "  <thead>\n",
       "    <tr style=\"text-align: right;\">\n",
       "      <th></th>\n",
       "      <th>Age</th>\n",
       "      <th>Scholarship</th>\n",
       "      <th>Hipertension</th>\n",
       "      <th>Diabetes</th>\n",
       "      <th>Alcoholism</th>\n",
       "      <th>Handcap</th>\n",
       "      <th>SMSreceived</th>\n",
       "    </tr>\n",
       "  </thead>\n",
       "  <tbody>\n",
       "    <tr>\n",
       "      <th>count</th>\n",
       "      <td>110526.000000</td>\n",
       "      <td>110526.000000</td>\n",
       "      <td>110526.000000</td>\n",
       "      <td>110526.000000</td>\n",
       "      <td>110526.000000</td>\n",
       "      <td>110526.000000</td>\n",
       "      <td>110526.000000</td>\n",
       "    </tr>\n",
       "    <tr>\n",
       "      <th>mean</th>\n",
       "      <td>37.105229</td>\n",
       "      <td>0.098266</td>\n",
       "      <td>0.197248</td>\n",
       "      <td>0.071865</td>\n",
       "      <td>0.030400</td>\n",
       "      <td>0.020276</td>\n",
       "      <td>0.321029</td>\n",
       "    </tr>\n",
       "    <tr>\n",
       "      <th>std</th>\n",
       "      <td>23.084485</td>\n",
       "      <td>0.297676</td>\n",
       "      <td>0.397923</td>\n",
       "      <td>0.258266</td>\n",
       "      <td>0.171686</td>\n",
       "      <td>0.140943</td>\n",
       "      <td>0.466874</td>\n",
       "    </tr>\n",
       "    <tr>\n",
       "      <th>min</th>\n",
       "      <td>0.500000</td>\n",
       "      <td>0.000000</td>\n",
       "      <td>0.000000</td>\n",
       "      <td>0.000000</td>\n",
       "      <td>0.000000</td>\n",
       "      <td>0.000000</td>\n",
       "      <td>0.000000</td>\n",
       "    </tr>\n",
       "    <tr>\n",
       "      <th>25%</th>\n",
       "      <td>18.000000</td>\n",
       "      <td>0.000000</td>\n",
       "      <td>0.000000</td>\n",
       "      <td>0.000000</td>\n",
       "      <td>0.000000</td>\n",
       "      <td>0.000000</td>\n",
       "      <td>0.000000</td>\n",
       "    </tr>\n",
       "    <tr>\n",
       "      <th>50%</th>\n",
       "      <td>37.000000</td>\n",
       "      <td>0.000000</td>\n",
       "      <td>0.000000</td>\n",
       "      <td>0.000000</td>\n",
       "      <td>0.000000</td>\n",
       "      <td>0.000000</td>\n",
       "      <td>0.000000</td>\n",
       "    </tr>\n",
       "    <tr>\n",
       "      <th>75%</th>\n",
       "      <td>55.000000</td>\n",
       "      <td>0.000000</td>\n",
       "      <td>0.000000</td>\n",
       "      <td>0.000000</td>\n",
       "      <td>0.000000</td>\n",
       "      <td>0.000000</td>\n",
       "      <td>1.000000</td>\n",
       "    </tr>\n",
       "    <tr>\n",
       "      <th>max</th>\n",
       "      <td>115.000000</td>\n",
       "      <td>1.000000</td>\n",
       "      <td>1.000000</td>\n",
       "      <td>1.000000</td>\n",
       "      <td>1.000000</td>\n",
       "      <td>1.000000</td>\n",
       "      <td>1.000000</td>\n",
       "    </tr>\n",
       "  </tbody>\n",
       "</table>\n",
       "</div>"
      ],
      "text/plain": [
       "                 Age    Scholarship   Hipertension       Diabetes  \\\n",
       "count  110526.000000  110526.000000  110526.000000  110526.000000   \n",
       "mean       37.105229       0.098266       0.197248       0.071865   \n",
       "std        23.084485       0.297676       0.397923       0.258266   \n",
       "min         0.500000       0.000000       0.000000       0.000000   \n",
       "25%        18.000000       0.000000       0.000000       0.000000   \n",
       "50%        37.000000       0.000000       0.000000       0.000000   \n",
       "75%        55.000000       0.000000       0.000000       0.000000   \n",
       "max       115.000000       1.000000       1.000000       1.000000   \n",
       "\n",
       "          Alcoholism        Handcap    SMSreceived  \n",
       "count  110526.000000  110526.000000  110526.000000  \n",
       "mean        0.030400       0.020276       0.321029  \n",
       "std         0.171686       0.140943       0.466874  \n",
       "min         0.000000       0.000000       0.000000  \n",
       "25%         0.000000       0.000000       0.000000  \n",
       "50%         0.000000       0.000000       0.000000  \n",
       "75%         0.000000       0.000000       1.000000  \n",
       "max         1.000000       1.000000       1.000000  "
      ]
     },
     "execution_count": 21,
     "metadata": {},
     "output_type": "execute_result"
    }
   ],
   "source": [
    "# show a describtive statistics for the variables after cleaning the data\n",
    "df.describe()"
   ]
  },
  {
   "cell_type": "code",
   "execution_count": 22,
   "id": "fe3509c7",
   "metadata": {
    "execution": {
     "iopub.execute_input": "2023-09-10T18:28:31.007602Z",
     "iopub.status.busy": "2023-09-10T18:28:31.006863Z",
     "iopub.status.idle": "2023-09-10T18:28:32.097206Z",
     "shell.execute_reply": "2023-09-10T18:28:32.096216Z"
    },
    "papermill": {
     "duration": 1.126715,
     "end_time": "2023-09-10T18:28:32.099794",
     "exception": false,
     "start_time": "2023-09-10T18:28:30.973079",
     "status": "completed"
    },
    "tags": []
   },
   "outputs": [
    {
     "data": {
      "image/png": "[encoded data removed]",
      "text/plain": [
       "<Figure size 1080x720 with 9 Axes>"
      ]
     },
     "metadata": {
      "needs_background": "light"
     },
     "output_type": "display_data"
    }
   ],
   "source": [
    "# create a histogram displaying the variables after data cleaning\n",
    "df.hist(figsize=(15,10));"
   ]
  },
  {
   "cell_type": "markdown",
   "id": "d06517d2",
   "metadata": {
    "papermill": {
     "duration": 0.034875,
     "end_time": "2023-09-10T18:28:32.167768",
     "exception": false,
     "start_time": "2023-09-10T18:28:32.132893",
     "status": "completed"
    },
    "tags": []
   },
   "source": [
    "<a id='eda'></a>\n",
    "## Exploratory Data Analysis\n",
    "\n",
    "> Now the data is trimmed and cleaned, it is ready to move on to exploration. The data analysis process encompasses exploration of co-relation of each of the following variables with patients Not show conditions:\n",
    "**_Gender, Scheduled day compared to appointmnet day, Age, Scholarship, Hypertension, Diabeties, Handcap and SMSreceived_**"
   ]
  },
  {
   "cell_type": "markdown",
   "id": "a92a98eb",
   "metadata": {
    "papermill": {
     "duration": 0.032704,
     "end_time": "2023-09-10T18:28:32.234216",
     "exception": false,
     "start_time": "2023-09-10T18:28:32.201512",
     "status": "completed"
    },
    "tags": []
   },
   "source": [
    "**_Exploring the co-relation between each variable mentioned will be checked in two ways. First, check the impact of each variable considering ONLY NO Showup patients (in This case: the dataframe will be masked or filtered with the data of the patients who did not show up by creating new dataframe df1). Second, proportion between show and Not show for all the variable has been untilized._**"
   ]
  },
  {
   "cell_type": "code",
   "execution_count": 23,
   "id": "e8cc6fdc",
   "metadata": {
    "execution": {
     "iopub.execute_input": "2023-09-10T18:28:32.302297Z",
     "iopub.status.busy": "2023-09-10T18:28:32.301574Z",
     "iopub.status.idle": "2023-09-10T18:28:32.332745Z",
     "shell.execute_reply": "2023-09-10T18:28:32.331720Z"
    },
    "papermill": {
     "duration": 0.067711,
     "end_time": "2023-09-10T18:28:32.335009",
     "exception": false,
     "start_time": "2023-09-10T18:28:32.267298",
     "status": "completed"
    },
    "scrolled": true,
    "tags": []
   },
   "outputs": [
    {
     "data": {
      "text/html": [
       "<div>\n",
       "<style scoped>\n",
       "    .dataframe tbody tr th:only-of-type {\n",
       "        vertical-align: middle;\n",
       "    }\n",
       "\n",
       "    .dataframe tbody tr th {\n",
       "        vertical-align: top;\n",
       "    }\n",
       "\n",
       "    .dataframe thead th {\n",
       "        text-align: right;\n",
       "    }\n",
       "</style>\n",
       "<table border=\"1\" class=\"dataframe\">\n",
       "  <thead>\n",
       "    <tr style=\"text-align: right;\">\n",
       "      <th></th>\n",
       "      <th>Gender</th>\n",
       "      <th>ScheduledDay</th>\n",
       "      <th>AppointmentDay</th>\n",
       "      <th>Age</th>\n",
       "      <th>Scholarship</th>\n",
       "      <th>Hipertension</th>\n",
       "      <th>Diabetes</th>\n",
       "      <th>Alcoholism</th>\n",
       "      <th>Handcap</th>\n",
       "      <th>SMSreceived</th>\n",
       "      <th>Noshow</th>\n",
       "    </tr>\n",
       "  </thead>\n",
       "  <tbody>\n",
       "    <tr>\n",
       "      <th>6</th>\n",
       "      <td>F</td>\n",
       "      <td>2016-04-27T15:05:12Z</td>\n",
       "      <td>2016-04-29T00:00:00Z</td>\n",
       "      <td>23.0</td>\n",
       "      <td>0</td>\n",
       "      <td>0</td>\n",
       "      <td>0</td>\n",
       "      <td>0</td>\n",
       "      <td>0</td>\n",
       "      <td>0</td>\n",
       "      <td>Yes</td>\n",
       "    </tr>\n",
       "    <tr>\n",
       "      <th>7</th>\n",
       "      <td>F</td>\n",
       "      <td>2016-04-27T15:39:58Z</td>\n",
       "      <td>2016-04-29T00:00:00Z</td>\n",
       "      <td>39.0</td>\n",
       "      <td>0</td>\n",
       "      <td>0</td>\n",
       "      <td>0</td>\n",
       "      <td>0</td>\n",
       "      <td>0</td>\n",
       "      <td>0</td>\n",
       "      <td>Yes</td>\n",
       "    </tr>\n",
       "    <tr>\n",
       "      <th>11</th>\n",
       "      <td>M</td>\n",
       "      <td>2016-04-26T08:44:12Z</td>\n",
       "      <td>2016-04-29T00:00:00Z</td>\n",
       "      <td>29.0</td>\n",
       "      <td>0</td>\n",
       "      <td>0</td>\n",
       "      <td>0</td>\n",
       "      <td>0</td>\n",
       "      <td>0</td>\n",
       "      <td>1</td>\n",
       "      <td>Yes</td>\n",
       "    </tr>\n",
       "    <tr>\n",
       "      <th>17</th>\n",
       "      <td>F</td>\n",
       "      <td>2016-04-28T09:28:57Z</td>\n",
       "      <td>2016-04-29T00:00:00Z</td>\n",
       "      <td>40.0</td>\n",
       "      <td>1</td>\n",
       "      <td>0</td>\n",
       "      <td>0</td>\n",
       "      <td>0</td>\n",
       "      <td>0</td>\n",
       "      <td>0</td>\n",
       "      <td>Yes</td>\n",
       "    </tr>\n",
       "    <tr>\n",
       "      <th>20</th>\n",
       "      <td>F</td>\n",
       "      <td>2016-04-27T07:51:14Z</td>\n",
       "      <td>2016-04-29T00:00:00Z</td>\n",
       "      <td>30.0</td>\n",
       "      <td>0</td>\n",
       "      <td>0</td>\n",
       "      <td>0</td>\n",
       "      <td>0</td>\n",
       "      <td>0</td>\n",
       "      <td>0</td>\n",
       "      <td>Yes</td>\n",
       "    </tr>\n",
       "    <tr>\n",
       "      <th>...</th>\n",
       "      <td>...</td>\n",
       "      <td>...</td>\n",
       "      <td>...</td>\n",
       "      <td>...</td>\n",
       "      <td>...</td>\n",
       "      <td>...</td>\n",
       "      <td>...</td>\n",
       "      <td>...</td>\n",
       "      <td>...</td>\n",
       "      <td>...</td>\n",
       "      <td>...</td>\n",
       "    </tr>\n",
       "    <tr>\n",
       "      <th>110484</th>\n",
       "      <td>F</td>\n",
       "      <td>2016-06-03T14:43:56Z</td>\n",
       "      <td>2016-06-07T00:00:00Z</td>\n",
       "      <td>45.0</td>\n",
       "      <td>0</td>\n",
       "      <td>0</td>\n",
       "      <td>0</td>\n",
       "      <td>0</td>\n",
       "      <td>0</td>\n",
       "      <td>0</td>\n",
       "      <td>Yes</td>\n",
       "    </tr>\n",
       "    <tr>\n",
       "      <th>110492</th>\n",
       "      <td>M</td>\n",
       "      <td>2016-06-08T08:50:19Z</td>\n",
       "      <td>2016-06-08T00:00:00Z</td>\n",
       "      <td>33.0</td>\n",
       "      <td>0</td>\n",
       "      <td>1</td>\n",
       "      <td>0</td>\n",
       "      <td>0</td>\n",
       "      <td>0</td>\n",
       "      <td>0</td>\n",
       "      <td>Yes</td>\n",
       "    </tr>\n",
       "    <tr>\n",
       "      <th>110496</th>\n",
       "      <td>F</td>\n",
       "      <td>2016-06-06T17:35:38Z</td>\n",
       "      <td>2016-06-08T00:00:00Z</td>\n",
       "      <td>37.0</td>\n",
       "      <td>0</td>\n",
       "      <td>1</td>\n",
       "      <td>0</td>\n",
       "      <td>0</td>\n",
       "      <td>0</td>\n",
       "      <td>0</td>\n",
       "      <td>Yes</td>\n",
       "    </tr>\n",
       "    <tr>\n",
       "      <th>110515</th>\n",
       "      <td>M</td>\n",
       "      <td>2016-06-06T15:58:05Z</td>\n",
       "      <td>2016-06-08T00:00:00Z</td>\n",
       "      <td>33.0</td>\n",
       "      <td>0</td>\n",
       "      <td>1</td>\n",
       "      <td>0</td>\n",
       "      <td>0</td>\n",
       "      <td>0</td>\n",
       "      <td>0</td>\n",
       "      <td>Yes</td>\n",
       "    </tr>\n",
       "    <tr>\n",
       "      <th>110516</th>\n",
       "      <td>F</td>\n",
       "      <td>2016-06-07T07:45:16Z</td>\n",
       "      <td>2016-06-08T00:00:00Z</td>\n",
       "      <td>37.0</td>\n",
       "      <td>0</td>\n",
       "      <td>0</td>\n",
       "      <td>0</td>\n",
       "      <td>0</td>\n",
       "      <td>0</td>\n",
       "      <td>0</td>\n",
       "      <td>Yes</td>\n",
       "    </tr>\n",
       "  </tbody>\n",
       "</table>\n",
       "<p>22319 rows × 11 columns</p>\n",
       "</div>"
      ],
      "text/plain": [
       "       Gender          ScheduledDay        AppointmentDay   Age  Scholarship  \\\n",
       "6           F  2016-04-27T15:05:12Z  2016-04-29T00:00:00Z  23.0            0   \n",
       "7           F  2016-04-27T15:39:58Z  2016-04-29T00:00:00Z  39.0            0   \n",
       "11          M  2016-04-26T08:44:12Z  2016-04-29T00:00:00Z  29.0            0   \n",
       "17          F  2016-04-28T09:28:57Z  2016-04-29T00:00:00Z  40.0            1   \n",
       "20          F  2016-04-27T07:51:14Z  2016-04-29T00:00:00Z  30.0            0   \n",
       "...       ...                   ...                   ...   ...          ...   \n",
       "110484      F  2016-06-03T14:43:56Z  2016-06-07T00:00:00Z  45.0            0   \n",
       "110492      M  2016-06-08T08:50:19Z  2016-06-08T00:00:00Z  33.0            0   \n",
       "110496      F  2016-06-06T17:35:38Z  2016-06-08T00:00:00Z  37.0            0   \n",
       "110515      M  2016-06-06T15:58:05Z  2016-06-08T00:00:00Z  33.0            0   \n",
       "110516      F  2016-06-07T07:45:16Z  2016-06-08T00:00:00Z  37.0            0   \n",
       "\n",
       "        Hipertension  Diabetes  Alcoholism  Handcap  SMSreceived Noshow  \n",
       "6                  0         0           0        0            0    Yes  \n",
       "7                  0         0           0        0            0    Yes  \n",
       "11                 0         0           0        0            1    Yes  \n",
       "17                 0         0           0        0            0    Yes  \n",
       "20                 0         0           0        0            0    Yes  \n",
       "...              ...       ...         ...      ...          ...    ...  \n",
       "110484             0         0           0        0            0    Yes  \n",
       "110492             1         0           0        0            0    Yes  \n",
       "110496             1         0           0        0            0    Yes  \n",
       "110515             1         0           0        0            0    Yes  \n",
       "110516             0         0           0        0            0    Yes  \n",
       "\n",
       "[22319 rows x 11 columns]"
      ]
     },
     "execution_count": 23,
     "metadata": {},
     "output_type": "execute_result"
    }
   ],
   "source": [
    "# create dataframe df1 with the patients who did not show up in the appointment\n",
    "df1 = df[df['Noshow'] == 'Yes']\n",
    "df1"
   ]
  },
  {
   "cell_type": "code",
   "execution_count": 24,
   "id": "e5d123db",
   "metadata": {
    "execution": {
     "iopub.execute_input": "2023-09-10T18:28:32.404064Z",
     "iopub.status.busy": "2023-09-10T18:28:32.403651Z",
     "iopub.status.idle": "2023-09-10T18:28:32.439031Z",
     "shell.execute_reply": "2023-09-10T18:28:32.437914Z"
    },
    "papermill": {
     "duration": 0.072528,
     "end_time": "2023-09-10T18:28:32.441416",
     "exception": false,
     "start_time": "2023-09-10T18:28:32.368888",
     "status": "completed"
    },
    "scrolled": true,
    "tags": []
   },
   "outputs": [
    {
     "data": {
      "text/html": [
       "<div>\n",
       "<style scoped>\n",
       "    .dataframe tbody tr th:only-of-type {\n",
       "        vertical-align: middle;\n",
       "    }\n",
       "\n",
       "    .dataframe tbody tr th {\n",
       "        vertical-align: top;\n",
       "    }\n",
       "\n",
       "    .dataframe thead th {\n",
       "        text-align: right;\n",
       "    }\n",
       "</style>\n",
       "<table border=\"1\" class=\"dataframe\">\n",
       "  <thead>\n",
       "    <tr style=\"text-align: right;\">\n",
       "      <th></th>\n",
       "      <th>Age</th>\n",
       "      <th>Scholarship</th>\n",
       "      <th>Hipertension</th>\n",
       "      <th>Diabetes</th>\n",
       "      <th>Alcoholism</th>\n",
       "      <th>Handcap</th>\n",
       "      <th>SMSreceived</th>\n",
       "    </tr>\n",
       "  </thead>\n",
       "  <tbody>\n",
       "    <tr>\n",
       "      <th>count</th>\n",
       "      <td>22319.000000</td>\n",
       "      <td>22319.000000</td>\n",
       "      <td>22319.000000</td>\n",
       "      <td>22319.000000</td>\n",
       "      <td>22319.000000</td>\n",
       "      <td>22319.000000</td>\n",
       "      <td>22319.000000</td>\n",
       "    </tr>\n",
       "    <tr>\n",
       "      <th>mean</th>\n",
       "      <td>34.331982</td>\n",
       "      <td>0.115507</td>\n",
       "      <td>0.169004</td>\n",
       "      <td>0.064071</td>\n",
       "      <td>0.030333</td>\n",
       "      <td>0.018236</td>\n",
       "      <td>0.438371</td>\n",
       "    </tr>\n",
       "    <tr>\n",
       "      <th>std</th>\n",
       "      <td>21.943722</td>\n",
       "      <td>0.319640</td>\n",
       "      <td>0.374764</td>\n",
       "      <td>0.244885</td>\n",
       "      <td>0.171505</td>\n",
       "      <td>0.133805</td>\n",
       "      <td>0.496198</td>\n",
       "    </tr>\n",
       "    <tr>\n",
       "      <th>min</th>\n",
       "      <td>0.500000</td>\n",
       "      <td>0.000000</td>\n",
       "      <td>0.000000</td>\n",
       "      <td>0.000000</td>\n",
       "      <td>0.000000</td>\n",
       "      <td>0.000000</td>\n",
       "      <td>0.000000</td>\n",
       "    </tr>\n",
       "    <tr>\n",
       "      <th>25%</th>\n",
       "      <td>16.000000</td>\n",
       "      <td>0.000000</td>\n",
       "      <td>0.000000</td>\n",
       "      <td>0.000000</td>\n",
       "      <td>0.000000</td>\n",
       "      <td>0.000000</td>\n",
       "      <td>0.000000</td>\n",
       "    </tr>\n",
       "    <tr>\n",
       "      <th>50%</th>\n",
       "      <td>33.000000</td>\n",
       "      <td>0.000000</td>\n",
       "      <td>0.000000</td>\n",
       "      <td>0.000000</td>\n",
       "      <td>0.000000</td>\n",
       "      <td>0.000000</td>\n",
       "      <td>0.000000</td>\n",
       "    </tr>\n",
       "    <tr>\n",
       "      <th>75%</th>\n",
       "      <td>51.000000</td>\n",
       "      <td>0.000000</td>\n",
       "      <td>0.000000</td>\n",
       "      <td>0.000000</td>\n",
       "      <td>0.000000</td>\n",
       "      <td>0.000000</td>\n",
       "      <td>1.000000</td>\n",
       "    </tr>\n",
       "    <tr>\n",
       "      <th>max</th>\n",
       "      <td>115.000000</td>\n",
       "      <td>1.000000</td>\n",
       "      <td>1.000000</td>\n",
       "      <td>1.000000</td>\n",
       "      <td>1.000000</td>\n",
       "      <td>1.000000</td>\n",
       "      <td>1.000000</td>\n",
       "    </tr>\n",
       "  </tbody>\n",
       "</table>\n",
       "</div>"
      ],
      "text/plain": [
       "                Age   Scholarship  Hipertension      Diabetes    Alcoholism  \\\n",
       "count  22319.000000  22319.000000  22319.000000  22319.000000  22319.000000   \n",
       "mean      34.331982      0.115507      0.169004      0.064071      0.030333   \n",
       "std       21.943722      0.319640      0.374764      0.244885      0.171505   \n",
       "min        0.500000      0.000000      0.000000      0.000000      0.000000   \n",
       "25%       16.000000      0.000000      0.000000      0.000000      0.000000   \n",
       "50%       33.000000      0.000000      0.000000      0.000000      0.000000   \n",
       "75%       51.000000      0.000000      0.000000      0.000000      0.000000   \n",
       "max      115.000000      1.000000      1.000000      1.000000      1.000000   \n",
       "\n",
       "            Handcap   SMSreceived  \n",
       "count  22319.000000  22319.000000  \n",
       "mean       0.018236      0.438371  \n",
       "std        0.133805      0.496198  \n",
       "min        0.000000      0.000000  \n",
       "25%        0.000000      0.000000  \n",
       "50%        0.000000      0.000000  \n",
       "75%        0.000000      1.000000  \n",
       "max        1.000000      1.000000  "
      ]
     },
     "execution_count": 24,
     "metadata": {},
     "output_type": "execute_result"
    }
   ],
   "source": [
    "# display a decsribtive statistics for df1\n",
    "df1.describe()"
   ]
  },
  {
   "cell_type": "code",
   "execution_count": 25,
   "id": "e233ce8a",
   "metadata": {
    "execution": {
     "iopub.execute_input": "2023-09-10T18:28:32.512420Z",
     "iopub.status.busy": "2023-09-10T18:28:32.511989Z",
     "iopub.status.idle": "2023-09-10T18:28:33.443830Z",
     "shell.execute_reply": "2023-09-10T18:28:33.442905Z"
    },
    "papermill": {
     "duration": 0.969907,
     "end_time": "2023-09-10T18:28:33.446160",
     "exception": false,
     "start_time": "2023-09-10T18:28:32.476253",
     "status": "completed"
    },
    "tags": []
   },
   "outputs": [
    {
     "data": {
      "image/png": "[encoded data removed]",
      "text/plain": [
       "<Figure size 1080x720 with 9 Axes>"
      ]
     },
     "metadata": {
      "needs_background": "light"
     },
     "output_type": "display_data"
    }
   ],
   "source": [
    "# create a histogram plot for all the variables\n",
    "df1.hist(figsize=(15,10));"
   ]
  },
  {
   "cell_type": "markdown",
   "id": "cc859205",
   "metadata": {
    "papermill": {
     "duration": 0.03413,
     "end_time": "2023-09-10T18:28:33.514713",
     "exception": false,
     "start_time": "2023-09-10T18:28:33.480583",
     "status": "completed"
    },
    "tags": []
   },
   "source": [
    "###  Q1. Does Scholarship has co-relation with No show of the patients?"
   ]
  },
  {
   "cell_type": "code",
   "execution_count": 26,
   "id": "e7fc2570",
   "metadata": {
    "execution": {
     "iopub.execute_input": "2023-09-10T18:28:33.584482Z",
     "iopub.status.busy": "2023-09-10T18:28:33.584062Z",
     "iopub.status.idle": "2023-09-10T18:28:33.591824Z",
     "shell.execute_reply": "2023-09-10T18:28:33.590903Z"
    },
    "papermill": {
     "duration": 0.045136,
     "end_time": "2023-09-10T18:28:33.593884",
     "exception": false,
     "start_time": "2023-09-10T18:28:33.548748",
     "status": "completed"
    },
    "scrolled": true,
    "tags": []
   },
   "outputs": [
    {
     "data": {
      "text/plain": [
       "0    19741\n",
       "1     2578\n",
       "Name: Scholarship, dtype: int64"
      ]
     },
     "execution_count": 26,
     "metadata": {},
     "output_type": "execute_result"
    }
   ],
   "source": [
    "# check the counts of No Showup patients in accord to scholarship condition\n",
    "df1.Scholarship.value_counts()"
   ]
  },
  {
   "cell_type": "code",
   "execution_count": 27,
   "id": "8e32b964",
   "metadata": {
    "execution": {
     "iopub.execute_input": "2023-09-10T18:28:33.664842Z",
     "iopub.status.busy": "2023-09-10T18:28:33.664179Z",
     "iopub.status.idle": "2023-09-10T18:28:33.672912Z",
     "shell.execute_reply": "2023-09-10T18:28:33.672204Z"
    },
    "papermill": {
     "duration": 0.046592,
     "end_time": "2023-09-10T18:28:33.674871",
     "exception": false,
     "start_time": "2023-09-10T18:28:33.628279",
     "status": "completed"
    },
    "tags": []
   },
   "outputs": [
    {
     "data": {
      "text/plain": [
       "0.8844930328419732"
      ]
     },
     "execution_count": 27,
     "metadata": {},
     "output_type": "execute_result"
    }
   ],
   "source": [
    "# calculate the percentage of pateint whos Do not have scholarship and did not show in the appointment\n",
    "No_scholarship = df1.Scholarship.value_counts()[0]/(df1.Scholarship.value_counts()[0]+df1.Scholarship.value_counts()[1])\n",
    "No_scholarship"
   ]
  },
  {
   "cell_type": "markdown",
   "id": "fc1fbebb",
   "metadata": {
    "papermill": {
     "duration": 0.033913,
     "end_time": "2023-09-10T18:28:33.743344",
     "exception": false,
     "start_time": "2023-09-10T18:28:33.709431",
     "status": "completed"
    },
    "tags": []
   },
   "source": [
    "**_Note: It can be conculded that 88.4% of the pateints who did not show in the appointment Do NOt have a scholarship.\n",
    "This is considered a major factor of Not showing up of the patients._**"
   ]
  },
  {
   "cell_type": "markdown",
   "id": "ce4b1499",
   "metadata": {
    "papermill": {
     "duration": 0.034245,
     "end_time": "2023-09-10T18:28:33.811872",
     "exception": false,
     "start_time": "2023-09-10T18:28:33.777627",
     "status": "completed"
    },
    "tags": []
   },
   "source": [
    "#### Let's check the proportion between the patient who show up /did not show up with different scholarship condition"
   ]
  },
  {
   "cell_type": "code",
   "execution_count": 28,
   "id": "b65e3fcf",
   "metadata": {
    "execution": {
     "iopub.execute_input": "2023-09-10T18:28:33.881944Z",
     "iopub.status.busy": "2023-09-10T18:28:33.881534Z",
     "iopub.status.idle": "2023-09-10T18:28:33.903144Z",
     "shell.execute_reply": "2023-09-10T18:28:33.902426Z"
    },
    "papermill": {
     "duration": 0.059317,
     "end_time": "2023-09-10T18:28:33.905316",
     "exception": false,
     "start_time": "2023-09-10T18:28:33.845999",
     "status": "completed"
    },
    "tags": []
   },
   "outputs": [],
   "source": [
    "# Create Masks for the patients who show up and for the patients who did not show up.\n",
    "show = df['Noshow'] == 'No'\n",
    "Noshow = df['Noshow'] == 'Yes'"
   ]
  },
  {
   "cell_type": "code",
   "execution_count": 29,
   "id": "cbfef99d",
   "metadata": {
    "execution": {
     "iopub.execute_input": "2023-09-10T18:28:33.975966Z",
     "iopub.status.busy": "2023-09-10T18:28:33.974876Z",
     "iopub.status.idle": "2023-09-10T18:28:33.983258Z",
     "shell.execute_reply": "2023-09-10T18:28:33.982640Z"
    },
    "papermill": {
     "duration": 0.045385,
     "end_time": "2023-09-10T18:28:33.985009",
     "exception": false,
     "start_time": "2023-09-10T18:28:33.939624",
     "status": "completed"
    },
    "tags": []
   },
   "outputs": [
    {
     "data": {
      "text/plain": [
       "True     88207\n",
       "False    22319\n",
       "Name: Noshow, dtype: int64"
      ]
     },
     "execution_count": 29,
     "metadata": {},
     "output_type": "execute_result"
    }
   ],
   "source": [
    "# check the number of patients who show versus the number of patients who did not show.\n",
    "# it shown that almost 20% of the patients did NOT show up in accord to the appointment\n",
    "show.value_counts()"
   ]
  },
  {
   "cell_type": "markdown",
   "id": "5a040306",
   "metadata": {
    "papermill": {
     "duration": 0.034169,
     "end_time": "2023-09-10T18:28:34.053630",
     "exception": false,
     "start_time": "2023-09-10T18:28:34.019461",
     "status": "completed"
    },
    "tags": []
   },
   "source": [
    "> Around 20% of patients did NOT show up to the appointment"
   ]
  },
  {
   "cell_type": "code",
   "execution_count": 30,
   "id": "f204dd64",
   "metadata": {
    "execution": {
     "iopub.execute_input": "2023-09-10T18:28:34.124948Z",
     "iopub.status.busy": "2023-09-10T18:28:34.124290Z",
     "iopub.status.idle": "2023-09-10T18:28:34.151247Z",
     "shell.execute_reply": "2023-09-10T18:28:34.150535Z"
    },
    "papermill": {
     "duration": 0.065019,
     "end_time": "2023-09-10T18:28:34.153259",
     "exception": false,
     "start_time": "2023-09-10T18:28:34.088240",
     "status": "completed"
    },
    "tags": []
   },
   "outputs": [
    {
     "data": {
      "text/plain": [
       "Scholarship  Noshow\n",
       "0            No        79924\n",
       "             Yes       19741\n",
       "1            No         8283\n",
       "             Yes        2578\n",
       "Name: Noshow, dtype: int64"
      ]
     },
     "execution_count": 30,
     "metadata": {},
     "output_type": "execute_result"
    }
   ],
   "source": [
    "# group the data with Scholarship conditions and No Show and showup condition.\n",
    "# Note : dataframe df is utilized as it contains the whole cleaned data without filtering or masking\n",
    "df.groupby('Scholarship')['Noshow'].value_counts()"
   ]
  },
  {
   "cell_type": "code",
   "execution_count": 31,
   "id": "3218333d",
   "metadata": {
    "execution": {
     "iopub.execute_input": "2023-09-10T18:28:34.226729Z",
     "iopub.status.busy": "2023-09-10T18:28:34.225842Z",
     "iopub.status.idle": "2023-09-10T18:28:34.234406Z",
     "shell.execute_reply": "2023-09-10T18:28:34.233666Z"
    },
    "papermill": {
     "duration": 0.047961,
     "end_time": "2023-09-10T18:28:34.236239",
     "exception": false,
     "start_time": "2023-09-10T18:28:34.188278",
     "status": "completed"
    },
    "tags": []
   },
   "outputs": [
    {
     "data": {
      "text/plain": [
       "6         0\n",
       "7         0\n",
       "11        0\n",
       "17        1\n",
       "20        0\n",
       "         ..\n",
       "110484    0\n",
       "110492    0\n",
       "110496    0\n",
       "110515    0\n",
       "110516    0\n",
       "Name: Scholarship, Length: 22319, dtype: int64"
      ]
     },
     "execution_count": 31,
     "metadata": {},
     "output_type": "execute_result"
    }
   ],
   "source": [
    "# group the data with Scholarship conditions and No Show and showup condition.\n",
    "df.Scholarship[Noshow]"
   ]
  },
  {
   "cell_type": "markdown",
   "id": "210fb156",
   "metadata": {
    "papermill": {
     "duration": 0.0346,
     "end_time": "2023-09-10T18:28:34.306241",
     "exception": false,
     "start_time": "2023-09-10T18:28:34.271641",
     "status": "completed"
    },
    "tags": []
   },
   "source": [
    "## create a function for histogram plot"
   ]
  },
  {
   "cell_type": "code",
   "execution_count": 32,
   "id": "ca52ba9f",
   "metadata": {
    "execution": {
     "iopub.execute_input": "2023-09-10T18:28:34.378291Z",
     "iopub.status.busy": "2023-09-10T18:28:34.377831Z",
     "iopub.status.idle": "2023-09-10T18:28:34.384736Z",
     "shell.execute_reply": "2023-09-10T18:28:34.383676Z"
    },
    "papermill": {
     "duration": 0.045607,
     "end_time": "2023-09-10T18:28:34.386758",
     "exception": false,
     "start_time": "2023-09-10T18:28:34.341151",
     "status": "completed"
    },
    "tags": []
   },
   "outputs": [],
   "source": [
    "def histfunc(df, column_name, xlabel, ylabel, title):\n",
    "    try:\n",
    "        df[column_name][Noshow].hist(alpha=0.5, bins=10, color= 'red', label='NoShow')\n",
    "        df[column_name][show].hist(alpha=0.5, bins=10, color= 'blue', label='Show')\n",
    "    except:\n",
    "        sns.countplot(data=df, x=column_name, hue='Noshow')\n",
    "    plt.xlabel(xlabel)\n",
    "    plt.ylabel(ylabel)\n",
    "    plt.title(title)\n",
    "    plt.legend()\n",
    "    plt.show();"
   ]
  },
  {
   "cell_type": "code",
   "execution_count": 33,
   "id": "1a216365",
   "metadata": {
    "execution": {
     "iopub.execute_input": "2023-09-10T18:28:34.458708Z",
     "iopub.status.busy": "2023-09-10T18:28:34.457854Z",
     "iopub.status.idle": "2023-09-10T18:28:34.720825Z",
     "shell.execute_reply": "2023-09-10T18:28:34.719781Z"
    },
    "papermill": {
     "duration": 0.301368,
     "end_time": "2023-09-10T18:28:34.722919",
     "exception": false,
     "start_time": "2023-09-10T18:28:34.421551",
     "status": "completed"
    },
    "tags": []
   },
   "outputs": [
    {
     "data": {
      "image/png": "[encoded data removed]",
      "text/plain": [
       "<Figure size 432x288 with 1 Axes>"
      ]
     },
     "metadata": {
      "needs_background": "light"
     },
     "output_type": "display_data"
    }
   ],
   "source": [
    "# create a histogram between scholarship and number of patients with show/No show conditions\n",
    "histfunc(df, 'Scholarship','scholarship', 'Number of patients','Number of patients vs scholarship with showup conditions')"
   ]
  },
  {
   "cell_type": "code",
   "execution_count": 34,
   "id": "a34eefdc",
   "metadata": {
    "execution": {
     "iopub.execute_input": "2023-09-10T18:28:34.795144Z",
     "iopub.status.busy": "2023-09-10T18:28:34.794704Z",
     "iopub.status.idle": "2023-09-10T18:28:34.854799Z",
     "shell.execute_reply": "2023-09-10T18:28:34.853821Z"
    },
    "papermill": {
     "duration": 0.098781,
     "end_time": "2023-09-10T18:28:34.856967",
     "exception": false,
     "start_time": "2023-09-10T18:28:34.758186",
     "status": "completed"
    },
    "tags": []
   },
   "outputs": [
    {
     "data": {
      "text/plain": [
       "0.19807354638037425"
      ]
     },
     "execution_count": 34,
     "metadata": {},
     "output_type": "execute_result"
    }
   ],
   "source": [
    "# calculate the proportion of patients Who did NOT show up and who DID NOT have a scholarship\n",
    "Noscholarship_proportion = df.groupby('Scholarship')['Noshow'].value_counts()[0][1]/(df.groupby('Scholarship')['Noshow'].value_counts()[0][1]+df.groupby('Scholarship')['Noshow'].value_counts()[0][0])\n",
    "Noscholarship_proportion"
   ]
  },
  {
   "cell_type": "markdown",
   "id": "205b4615",
   "metadata": {
    "papermill": {
     "duration": 0.041984,
     "end_time": "2023-09-10T18:28:34.934751",
     "exception": false,
     "start_time": "2023-09-10T18:28:34.892767",
     "status": "completed"
    },
    "tags": []
   },
   "source": [
    "> Around 19.8% of patients who do not have a Scholarship, did NOT show up in the appointment"
   ]
  },
  {
   "cell_type": "code",
   "execution_count": 35,
   "id": "ed86484c",
   "metadata": {
    "execution": {
     "iopub.execute_input": "2023-09-10T18:28:35.017991Z",
     "iopub.status.busy": "2023-09-10T18:28:35.016912Z",
     "iopub.status.idle": "2023-09-10T18:28:35.075627Z",
     "shell.execute_reply": "2023-09-10T18:28:35.074929Z"
    },
    "papermill": {
     "duration": 0.102471,
     "end_time": "2023-09-10T18:28:35.078055",
     "exception": false,
     "start_time": "2023-09-10T18:28:34.975584",
     "status": "completed"
    },
    "tags": []
   },
   "outputs": [
    {
     "data": {
      "text/plain": [
       "0.2373630420771568"
      ]
     },
     "execution_count": 35,
     "metadata": {},
     "output_type": "execute_result"
    }
   ],
   "source": [
    "# calculate the proportion of patients Who did NOT show up and who are having a scholarship\n",
    "scholarship_proportion = df.groupby('Scholarship')['Noshow'].value_counts()[1][1]/(df.groupby('Scholarship')['Noshow'].value_counts()[1][1]+df.groupby('Scholarship')['Noshow'].value_counts()[1][0])\n",
    "scholarship_proportion"
   ]
  },
  {
   "cell_type": "markdown",
   "id": "4f86a3c6",
   "metadata": {
    "papermill": {
     "duration": 0.049367,
     "end_time": "2023-09-10T18:28:35.168487",
     "exception": false,
     "start_time": "2023-09-10T18:28:35.119120",
     "status": "completed"
    },
    "tags": []
   },
   "source": [
    "> Around 23.7% of patients who are having scholarship, did NOT show up in the appointment. \n",
    "**It can be concluded that if proportion is considered, scholarship will not have siginifacnt impact on patients No show condition**"
   ]
  },
  {
   "cell_type": "markdown",
   "id": "adce6c8e",
   "metadata": {
    "papermill": {
     "duration": 0.048318,
     "end_time": "2023-09-10T18:28:35.253843",
     "exception": false,
     "start_time": "2023-09-10T18:28:35.205525",
     "status": "completed"
    },
    "tags": []
   },
   "source": [
    "### **__It is obevious that scholarship is a major factor of not showing up of the patients as it represents 88.4% out of the total number of patients who did not showup in the appointment__**"
   ]
  },
  {
   "cell_type": "markdown",
   "id": "0b555aa7",
   "metadata": {
    "papermill": {
     "duration": 0.04283,
     "end_time": "2023-09-10T18:28:35.348155",
     "exception": false,
     "start_time": "2023-09-10T18:28:35.305325",
     "status": "completed"
    },
    "tags": []
   },
   "source": [
    "###  Q2. Does SMS variable has co-relation with No show of the patients?"
   ]
  },
  {
   "cell_type": "code",
   "execution_count": 36,
   "id": "888583e1",
   "metadata": {
    "execution": {
     "iopub.execute_input": "2023-09-10T18:28:35.426063Z",
     "iopub.status.busy": "2023-09-10T18:28:35.425673Z",
     "iopub.status.idle": "2023-09-10T18:28:35.433562Z",
     "shell.execute_reply": "2023-09-10T18:28:35.432615Z"
    },
    "papermill": {
     "duration": 0.04885,
     "end_time": "2023-09-10T18:28:35.435679",
     "exception": false,
     "start_time": "2023-09-10T18:28:35.386829",
     "status": "completed"
    },
    "tags": []
   },
   "outputs": [
    {
     "data": {
      "text/plain": [
       "0    12535\n",
       "1     9784\n",
       "Name: SMSreceived, dtype: int64"
      ]
     },
     "execution_count": 36,
     "metadata": {},
     "output_type": "execute_result"
    }
   ],
   "source": [
    "# check the counts of No Showup patients in accord to SMSreceived condition\n",
    "df1.SMSreceived.value_counts()"
   ]
  },
  {
   "cell_type": "code",
   "execution_count": 37,
   "id": "a2f81900",
   "metadata": {
    "execution": {
     "iopub.execute_input": "2023-09-10T18:28:35.508755Z",
     "iopub.status.busy": "2023-09-10T18:28:35.508018Z",
     "iopub.status.idle": "2023-09-10T18:28:35.517355Z",
     "shell.execute_reply": "2023-09-10T18:28:35.516516Z"
    },
    "papermill": {
     "duration": 0.048316,
     "end_time": "2023-09-10T18:28:35.519299",
     "exception": false,
     "start_time": "2023-09-10T18:28:35.470983",
     "status": "completed"
    },
    "tags": []
   },
   "outputs": [
    {
     "data": {
      "text/plain": [
       "0.5616291052466509"
      ]
     },
     "execution_count": 37,
     "metadata": {},
     "output_type": "execute_result"
    }
   ],
   "source": [
    "# calculate the percentage of pateint whos Do not have scholarship and did not show in the appointment\n",
    "No_SMSreceived = df1.SMSreceived.value_counts()[0]/(df1.SMSreceived.value_counts()[0]+df1.SMSreceived.value_counts()[1])\n",
    "No_SMSreceived"
   ]
  },
  {
   "cell_type": "markdown",
   "id": "b17b23eb",
   "metadata": {
    "papermill": {
     "duration": 0.035398,
     "end_time": "2023-09-10T18:28:35.590261",
     "exception": false,
     "start_time": "2023-09-10T18:28:35.554863",
     "status": "completed"
    },
    "tags": []
   },
   "source": [
    "**_Note: It can be concluded that 56.16% of the pateints who did not show in the appointment Did not receive an SMS.\n",
    "This is considered a additional strong factor of Not showing up of the patients._**"
   ]
  },
  {
   "cell_type": "markdown",
   "id": "e1f8096a",
   "metadata": {
    "papermill": {
     "duration": 0.035699,
     "end_time": "2023-09-10T18:28:35.661459",
     "exception": false,
     "start_time": "2023-09-10T18:28:35.625760",
     "status": "completed"
    },
    "tags": []
   },
   "source": [
    "#### Let's check the proportion between the patient who show up /did not show up with different SMS received condition"
   ]
  },
  {
   "cell_type": "code",
   "execution_count": 38,
   "id": "b07f677f",
   "metadata": {
    "execution": {
     "iopub.execute_input": "2023-09-10T18:28:35.735008Z",
     "iopub.status.busy": "2023-09-10T18:28:35.734278Z",
     "iopub.status.idle": "2023-09-10T18:28:35.760418Z",
     "shell.execute_reply": "2023-09-10T18:28:35.759351Z"
    },
    "papermill": {
     "duration": 0.065351,
     "end_time": "2023-09-10T18:28:35.762540",
     "exception": false,
     "start_time": "2023-09-10T18:28:35.697189",
     "status": "completed"
    },
    "scrolled": true,
    "tags": []
   },
   "outputs": [
    {
     "data": {
      "text/plain": [
       "SMSreceived  Noshow\n",
       "0            No        62509\n",
       "             Yes       12535\n",
       "1            No        25698\n",
       "             Yes        9784\n",
       "Name: Noshow, dtype: int64"
      ]
     },
     "execution_count": 38,
     "metadata": {},
     "output_type": "execute_result"
    }
   ],
   "source": [
    "#group the data with SMS received and No Show condition.\n",
    "# Note : dataframe df is utilized as it contains the whole cleaned data without filtering or masking\n",
    "df.groupby('SMSreceived')['Noshow'].value_counts()"
   ]
  },
  {
   "cell_type": "code",
   "execution_count": 39,
   "id": "e52c1fae",
   "metadata": {
    "execution": {
     "iopub.execute_input": "2023-09-10T18:28:35.835268Z",
     "iopub.status.busy": "2023-09-10T18:28:35.834838Z",
     "iopub.status.idle": "2023-09-10T18:28:36.092138Z",
     "shell.execute_reply": "2023-09-10T18:28:36.091452Z"
    },
    "papermill": {
     "duration": 0.296267,
     "end_time": "2023-09-10T18:28:36.094202",
     "exception": false,
     "start_time": "2023-09-10T18:28:35.797935",
     "status": "completed"
    },
    "tags": []
   },
   "outputs": [
    {
     "data": {
      "image/png": "[encoded data removed]",
      "text/plain": [
       "<Figure size 432x288 with 1 Axes>"
      ]
     },
     "metadata": {
      "needs_background": "light"
     },
     "output_type": "display_data"
    }
   ],
   "source": [
    "# create a histogram between SMS Received and number of patients with show/No show conditions\n",
    "histfunc(df, 'SMSreceived','SMSreceived', 'Number of patients','Number of patients vs SMS received with showup conditions')"
   ]
  },
  {
   "cell_type": "code",
   "execution_count": 40,
   "id": "816cd718",
   "metadata": {
    "execution": {
     "iopub.execute_input": "2023-09-10T18:28:36.168577Z",
     "iopub.status.busy": "2023-09-10T18:28:36.167566Z",
     "iopub.status.idle": "2023-09-10T18:28:36.230624Z",
     "shell.execute_reply": "2023-09-10T18:28:36.229483Z"
    },
    "papermill": {
     "duration": 0.102563,
     "end_time": "2023-09-10T18:28:36.232756",
     "exception": false,
     "start_time": "2023-09-10T18:28:36.130193",
     "status": "completed"
    },
    "tags": []
   },
   "outputs": [
    {
     "data": {
      "text/plain": [
       "0.16703533926762965"
      ]
     },
     "execution_count": 40,
     "metadata": {},
     "output_type": "execute_result"
    }
   ],
   "source": [
    "# calculate the proportion of patients Who did NOT show up and who DID NOT recieve an SMS\n",
    "NoSMS_proportion = df.groupby('SMSreceived')['Noshow'].value_counts()[0][1]/(df.groupby('SMSreceived')['Noshow'].value_counts()[0][0]+df.groupby('SMSreceived')['Noshow'].value_counts()[0][1])\n",
    "NoSMS_proportion"
   ]
  },
  {
   "cell_type": "markdown",
   "id": "bcf0dda2",
   "metadata": {
    "papermill": {
     "duration": 0.035959,
     "end_time": "2023-09-10T18:28:36.305115",
     "exception": false,
     "start_time": "2023-09-10T18:28:36.269156",
     "status": "completed"
    },
    "tags": []
   },
   "source": [
    "> Around 16.7% of patients who did not recieve an SMS, did NOT show up in the appointment"
   ]
  },
  {
   "cell_type": "code",
   "execution_count": 41,
   "id": "5a149aa9",
   "metadata": {
    "execution": {
     "iopub.execute_input": "2023-09-10T18:28:36.378841Z",
     "iopub.status.busy": "2023-09-10T18:28:36.378463Z",
     "iopub.status.idle": "2023-09-10T18:28:36.438705Z",
     "shell.execute_reply": "2023-09-10T18:28:36.437808Z"
    },
    "papermill": {
     "duration": 0.099662,
     "end_time": "2023-09-10T18:28:36.440841",
     "exception": false,
     "start_time": "2023-09-10T18:28:36.341179",
     "status": "completed"
    },
    "tags": []
   },
   "outputs": [
    {
     "data": {
      "text/plain": [
       "0.27574544839637"
      ]
     },
     "execution_count": 41,
     "metadata": {},
     "output_type": "execute_result"
    }
   ],
   "source": [
    "# calculate the proportion of patients Who did NOT show up and who DID NOT recieve an SMS\n",
    "SMS_proportion = df.groupby('SMSreceived')['Noshow'].value_counts()[1][1]/(df.groupby('SMSreceived')['Noshow'].value_counts()[1][0]+df.groupby('SMSreceived')['Noshow'].value_counts()[1][1])\n",
    "SMS_proportion"
   ]
  },
  {
   "cell_type": "markdown",
   "id": "abaecfca",
   "metadata": {
    "papermill": {
     "duration": 0.0358,
     "end_time": "2023-09-10T18:28:36.514066",
     "exception": false,
     "start_time": "2023-09-10T18:28:36.478266",
     "status": "completed"
    },
    "tags": []
   },
   "source": [
    "> Around 27.5% of patients who received an SMS, did NOT show up in the appointment. **It can be concluded that if proportion is considered, SMS variable will not have an impact on number of patients who did not show up.**"
   ]
  },
  {
   "cell_type": "markdown",
   "id": "145662b8",
   "metadata": {
    "papermill": {
     "duration": 0.035883,
     "end_time": "2023-09-10T18:28:36.586819",
     "exception": false,
     "start_time": "2023-09-10T18:28:36.550936",
     "status": "completed"
    },
    "tags": []
   },
   "source": [
    "### **__It is obevious that Not receiving an SMS is additional major factor of not showing up of the patients as it represents 56.1% out of the total number of patients who did not showup in the appointment__**"
   ]
  },
  {
   "cell_type": "markdown",
   "id": "308adcfa",
   "metadata": {
    "papermill": {
     "duration": 0.037135,
     "end_time": "2023-09-10T18:28:36.660196",
     "exception": false,
     "start_time": "2023-09-10T18:28:36.623061",
     "status": "completed"
    },
    "tags": []
   },
   "source": [
    "### Q3. Does SMS and Scholarship variables have an impact on Not show of the patients?"
   ]
  },
  {
   "cell_type": "code",
   "execution_count": 42,
   "id": "d14d6300",
   "metadata": {
    "execution": {
     "iopub.execute_input": "2023-09-10T18:28:36.735346Z",
     "iopub.status.busy": "2023-09-10T18:28:36.734423Z",
     "iopub.status.idle": "2023-09-10T18:28:36.744446Z",
     "shell.execute_reply": "2023-09-10T18:28:36.743732Z"
    },
    "papermill": {
     "duration": 0.04982,
     "end_time": "2023-09-10T18:28:36.746303",
     "exception": false,
     "start_time": "2023-09-10T18:28:36.696483",
     "status": "completed"
    },
    "scrolled": true,
    "tags": []
   },
   "outputs": [
    {
     "data": {
      "text/plain": [
       "Scholarship  SMSreceived\n",
       "0            0              11141\n",
       "             1               8600\n",
       "1            0               1394\n",
       "             1               1184\n",
       "Name: SMSreceived, dtype: int64"
      ]
     },
     "execution_count": 42,
     "metadata": {},
     "output_type": "execute_result"
    }
   ],
   "source": [
    "# group the data by scholarship and SMS received\n",
    "df1.groupby('Scholarship')['SMSreceived'].value_counts()"
   ]
  },
  {
   "cell_type": "code",
   "execution_count": 43,
   "id": "7760daff",
   "metadata": {
    "execution": {
     "iopub.execute_input": "2023-09-10T18:28:36.820935Z",
     "iopub.status.busy": "2023-09-10T18:28:36.820532Z",
     "iopub.status.idle": "2023-09-10T18:28:36.830719Z",
     "shell.execute_reply": "2023-09-10T18:28:36.830055Z"
    },
    "papermill": {
     "duration": 0.049758,
     "end_time": "2023-09-10T18:28:36.832574",
     "exception": false,
     "start_time": "2023-09-10T18:28:36.782816",
     "status": "completed"
    },
    "tags": []
   },
   "outputs": [
    {
     "data": {
      "text/plain": [
       "0.49917110981674806"
      ]
     },
     "execution_count": 43,
     "metadata": {},
     "output_type": "execute_result"
    }
   ],
   "source": [
    "#calculate the percentage of patients who didnot receive SMS and do not have a scholarship\n",
    "df1.groupby('Scholarship')['SMSreceived'].value_counts()[0][0]/df1.shape[0]"
   ]
  },
  {
   "cell_type": "markdown",
   "id": "6db4a9f4",
   "metadata": {
    "papermill": {
     "duration": 0.036436,
     "end_time": "2023-09-10T18:28:36.905633",
     "exception": false,
     "start_time": "2023-09-10T18:28:36.869197",
     "status": "completed"
    },
    "tags": []
   },
   "source": [
    "### **_it can be concluded that almost 50% of the patients who did not receive an SMS and do not have scholarship , did not show up in the appointment._**"
   ]
  },
  {
   "cell_type": "markdown",
   "id": "362cf4f6",
   "metadata": {
    "papermill": {
     "duration": 0.037326,
     "end_time": "2023-09-10T18:28:36.979827",
     "exception": false,
     "start_time": "2023-09-10T18:28:36.942501",
     "status": "completed"
    },
    "tags": []
   },
   "source": [
    "### Q4. Does Hipertension variable has an impact on Not show of the patients?"
   ]
  },
  {
   "cell_type": "code",
   "execution_count": 44,
   "id": "d1e47275",
   "metadata": {
    "execution": {
     "iopub.execute_input": "2023-09-10T18:28:37.055703Z",
     "iopub.status.busy": "2023-09-10T18:28:37.055019Z",
     "iopub.status.idle": "2023-09-10T18:28:37.061802Z",
     "shell.execute_reply": "2023-09-10T18:28:37.061183Z"
    },
    "papermill": {
     "duration": 0.046856,
     "end_time": "2023-09-10T18:28:37.063608",
     "exception": false,
     "start_time": "2023-09-10T18:28:37.016752",
     "status": "completed"
    },
    "scrolled": true,
    "tags": []
   },
   "outputs": [
    {
     "data": {
      "text/plain": [
       "0    18547\n",
       "1     3772\n",
       "Name: Hipertension, dtype: int64"
      ]
     },
     "execution_count": 44,
     "metadata": {},
     "output_type": "execute_result"
    }
   ],
   "source": [
    "# check the counts of No Showup patients who has Hipertension\n",
    "df1.Hipertension.value_counts()"
   ]
  },
  {
   "cell_type": "code",
   "execution_count": 45,
   "id": "f5e9ed11",
   "metadata": {
    "execution": {
     "iopub.execute_input": "2023-09-10T18:28:37.140107Z",
     "iopub.status.busy": "2023-09-10T18:28:37.139418Z",
     "iopub.status.idle": "2023-09-10T18:28:37.148554Z",
     "shell.execute_reply": "2023-09-10T18:28:37.147848Z"
    },
    "papermill": {
     "duration": 0.050024,
     "end_time": "2023-09-10T18:28:37.150420",
     "exception": false,
     "start_time": "2023-09-10T18:28:37.100396",
     "status": "completed"
    },
    "tags": []
   },
   "outputs": [
    {
     "data": {
      "text/plain": [
       "0.16900398763385457"
      ]
     },
     "execution_count": 45,
     "metadata": {},
     "output_type": "execute_result"
    }
   ],
   "source": [
    "# calculate the percentage of pateint whos Do not have Hipertension and did not show in the appointment\n",
    "Hipertension = df1.Hipertension.value_counts()[1]/(df1.Hipertension.value_counts()[0]+df1.Hipertension.value_counts()[1])\n",
    "Hipertension"
   ]
  },
  {
   "cell_type": "markdown",
   "id": "74fb9f14",
   "metadata": {
    "papermill": {
     "duration": 0.039015,
     "end_time": "2023-09-10T18:28:37.226336",
     "exception": false,
     "start_time": "2023-09-10T18:28:37.187321",
     "status": "completed"
    },
    "tags": []
   },
   "source": [
    "**_Note: Around 17% of the pateints who did not show in the appointment suffers from hipertension.\n",
    "Hipertension is a moderate factor of Not showing up of the patients._**"
   ]
  },
  {
   "cell_type": "markdown",
   "id": "964f2409",
   "metadata": {
    "papermill": {
     "duration": 0.036382,
     "end_time": "2023-09-10T18:28:37.299496",
     "exception": false,
     "start_time": "2023-09-10T18:28:37.263114",
     "status": "completed"
    },
    "tags": []
   },
   "source": [
    "#### Let's check the proportion between the patient who show up /did not show up with different Hipertension condition"
   ]
  },
  {
   "cell_type": "code",
   "execution_count": 46,
   "id": "5e907b14",
   "metadata": {
    "execution": {
     "iopub.execute_input": "2023-09-10T18:28:37.375374Z",
     "iopub.status.busy": "2023-09-10T18:28:37.374717Z",
     "iopub.status.idle": "2023-09-10T18:28:37.399422Z",
     "shell.execute_reply": "2023-09-10T18:28:37.398517Z"
    },
    "papermill": {
     "duration": 0.06497,
     "end_time": "2023-09-10T18:28:37.401578",
     "exception": false,
     "start_time": "2023-09-10T18:28:37.336608",
     "status": "completed"
    },
    "scrolled": true,
    "tags": []
   },
   "outputs": [
    {
     "data": {
      "text/plain": [
       "Hipertension  Noshow\n",
       "0             No        70178\n",
       "              Yes       18547\n",
       "1             No        18029\n",
       "              Yes        3772\n",
       "Name: Noshow, dtype: int64"
      ]
     },
     "execution_count": 46,
     "metadata": {},
     "output_type": "execute_result"
    }
   ],
   "source": [
    "# group the data with Hipertension conditions and No Show condition.\n",
    "df.groupby('Hipertension')['Noshow'].value_counts()"
   ]
  },
  {
   "cell_type": "code",
   "execution_count": 47,
   "id": "1698b752",
   "metadata": {
    "execution": {
     "iopub.execute_input": "2023-09-10T18:28:37.476531Z",
     "iopub.status.busy": "2023-09-10T18:28:37.476087Z",
     "iopub.status.idle": "2023-09-10T18:28:37.729968Z",
     "shell.execute_reply": "2023-09-10T18:28:37.729221Z"
    },
    "papermill": {
     "duration": 0.293578,
     "end_time": "2023-09-10T18:28:37.731910",
     "exception": false,
     "start_time": "2023-09-10T18:28:37.438332",
     "status": "completed"
    },
    "tags": []
   },
   "outputs": [
    {
     "data": {
      "image/png": "[encoded data removed]",
      "text/plain": [
       "<Figure size 432x288 with 1 Axes>"
      ]
     },
     "metadata": {
      "needs_background": "light"
     },
     "output_type": "display_data"
    }
   ],
   "source": [
    "# create a histogram between Hipertension and number of patients with show/No show conditions\n",
    "histfunc(df, 'Hipertension','Hipertension', 'Number of patients','Number of patients vs Hipertension with showup conditions')"
   ]
  },
  {
   "cell_type": "code",
   "execution_count": 48,
   "id": "63f9b274",
   "metadata": {
    "execution": {
     "iopub.execute_input": "2023-09-10T18:28:37.808851Z",
     "iopub.status.busy": "2023-09-10T18:28:37.808305Z",
     "iopub.status.idle": "2023-09-10T18:28:37.868367Z",
     "shell.execute_reply": "2023-09-10T18:28:37.867469Z"
    },
    "papermill": {
     "duration": 0.101029,
     "end_time": "2023-09-10T18:28:37.870471",
     "exception": false,
     "start_time": "2023-09-10T18:28:37.769442",
     "status": "completed"
    },
    "tags": []
   },
   "outputs": [
    {
     "data": {
      "text/plain": [
       "0.2090391659622429"
      ]
     },
     "execution_count": 48,
     "metadata": {},
     "output_type": "execute_result"
    }
   ],
   "source": [
    "# calculate the proportion of patients Who did NOT show up and who DID NOT have a Hipertension\n",
    "NoHipertension_proportion = df.groupby('Hipertension')['Noshow'].value_counts()[0][1]/(df.groupby('Hipertension')['Noshow'].value_counts()[0][1]+df.groupby('Hipertension')['Noshow'].value_counts()[0][0])\n",
    "NoHipertension_proportion"
   ]
  },
  {
   "cell_type": "markdown",
   "id": "56762e3b",
   "metadata": {
    "papermill": {
     "duration": 0.037467,
     "end_time": "2023-09-10T18:28:37.945535",
     "exception": false,
     "start_time": "2023-09-10T18:28:37.908068",
     "status": "completed"
    },
    "tags": []
   },
   "source": [
    "> Around 21% of patients who do not have a Hipertension, did NOT show up in the appointment"
   ]
  },
  {
   "cell_type": "code",
   "execution_count": 49,
   "id": "bc52952a",
   "metadata": {
    "execution": {
     "iopub.execute_input": "2023-09-10T18:28:38.022075Z",
     "iopub.status.busy": "2023-09-10T18:28:38.021650Z",
     "iopub.status.idle": "2023-09-10T18:28:38.080837Z",
     "shell.execute_reply": "2023-09-10T18:28:38.079888Z"
    },
    "papermill": {
     "duration": 0.100195,
     "end_time": "2023-09-10T18:28:38.082929",
     "exception": false,
     "start_time": "2023-09-10T18:28:37.982734",
     "status": "completed"
    },
    "tags": []
   },
   "outputs": [
    {
     "data": {
      "text/plain": [
       "0.17301958625751113"
      ]
     },
     "execution_count": 49,
     "metadata": {},
     "output_type": "execute_result"
    }
   ],
   "source": [
    "# calculate the proportion of patients Who did NOT show up and who are having a Hipertension\n",
    "Hipertension_proportion = df.groupby('Hipertension')['Noshow'].value_counts()[1][1]/(df.groupby('Hipertension')['Noshow'].value_counts()[1][1]+df.groupby('Hipertension')['Noshow'].value_counts()[1][0])\n",
    "Hipertension_proportion"
   ]
  },
  {
   "cell_type": "markdown",
   "id": "5b38905d",
   "metadata": {
    "papermill": {
     "duration": 0.037301,
     "end_time": "2023-09-10T18:28:38.157694",
     "exception": false,
     "start_time": "2023-09-10T18:28:38.120393",
     "status": "completed"
    },
    "tags": []
   },
   "source": [
    "> Around 17.3% of patients who are having Hipertension, did NOT show up in the appointment. **It can be concluded that if proportion is considered, Hypertension variable have no impact on number of patients who did not show up.**"
   ]
  },
  {
   "cell_type": "markdown",
   "id": "e1e2d3dc",
   "metadata": {
    "papermill": {
     "duration": 0.037696,
     "end_time": "2023-09-10T18:28:38.232904",
     "exception": false,
     "start_time": "2023-09-10T18:28:38.195208",
     "status": "completed"
    },
    "tags": []
   },
   "source": [
    "### **_Hipertension has a moderate impact of patients who did not show up in the appointment as it represents 17% out of all the patients who did not show up in the appointment._**"
   ]
  },
  {
   "cell_type": "markdown",
   "id": "713a9a95",
   "metadata": {
    "papermill": {
     "duration": 0.036953,
     "end_time": "2023-09-10T18:28:38.307301",
     "exception": false,
     "start_time": "2023-09-10T18:28:38.270348",
     "status": "completed"
    },
    "tags": []
   },
   "source": [
    "### Q5. Does Diabetes variable has an impact on Not show of the patients?"
   ]
  },
  {
   "cell_type": "code",
   "execution_count": 50,
   "id": "a160c77d",
   "metadata": {
    "execution": {
     "iopub.execute_input": "2023-09-10T18:28:38.384189Z",
     "iopub.status.busy": "2023-09-10T18:28:38.383021Z",
     "iopub.status.idle": "2023-09-10T18:28:38.391453Z",
     "shell.execute_reply": "2023-09-10T18:28:38.390532Z"
    },
    "papermill": {
     "duration": 0.048813,
     "end_time": "2023-09-10T18:28:38.393471",
     "exception": false,
     "start_time": "2023-09-10T18:28:38.344658",
     "status": "completed"
    },
    "scrolled": true,
    "tags": []
   },
   "outputs": [
    {
     "data": {
      "text/plain": [
       "0    20889\n",
       "1     1430\n",
       "Name: Diabetes, dtype: int64"
      ]
     },
     "execution_count": 50,
     "metadata": {},
     "output_type": "execute_result"
    }
   ],
   "source": [
    "# check the counts of No Showup patients who has Diabetes\n",
    "df1.Diabetes.value_counts()"
   ]
  },
  {
   "cell_type": "code",
   "execution_count": 51,
   "id": "64524820",
   "metadata": {
    "execution": {
     "iopub.execute_input": "2023-09-10T18:28:38.469973Z",
     "iopub.status.busy": "2023-09-10T18:28:38.469255Z",
     "iopub.status.idle": "2023-09-10T18:28:38.478474Z",
     "shell.execute_reply": "2023-09-10T18:28:38.477673Z"
    },
    "papermill": {
     "duration": 0.04962,
     "end_time": "2023-09-10T18:28:38.480414",
     "exception": false,
     "start_time": "2023-09-10T18:28:38.430794",
     "status": "completed"
    },
    "tags": []
   },
   "outputs": [
    {
     "data": {
      "text/plain": [
       "0.06407097092163627"
      ]
     },
     "execution_count": 51,
     "metadata": {},
     "output_type": "execute_result"
    }
   ],
   "source": [
    "# calculate the percentage of pateint whos Do not have Diabetes and did not show in the appointment\n",
    "Diabetes = df1.Diabetes.value_counts()[1]/(df1.Diabetes.value_counts()[0]+df1.Diabetes.value_counts()[1])\n",
    "Diabetes"
   ]
  },
  {
   "cell_type": "markdown",
   "id": "a2b9354d",
   "metadata": {
    "papermill": {
     "duration": 0.037088,
     "end_time": "2023-09-10T18:28:38.555019",
     "exception": false,
     "start_time": "2023-09-10T18:28:38.517931",
     "status": "completed"
    },
    "tags": []
   },
   "source": [
    "**_Only 6.4% of the pateints who did not show in the appointment suffers from Diabetes.\n",
    "Diabetes is a minor factor of Not showing up of the patients._**"
   ]
  },
  {
   "cell_type": "markdown",
   "id": "d3f13f48",
   "metadata": {
    "papermill": {
     "duration": 0.038518,
     "end_time": "2023-09-10T18:28:38.631115",
     "exception": false,
     "start_time": "2023-09-10T18:28:38.592597",
     "status": "completed"
    },
    "tags": []
   },
   "source": [
    "#### Let's check the proportion between the patient who show up /did not show up with different Diabetes condition"
   ]
  },
  {
   "cell_type": "code",
   "execution_count": 52,
   "id": "6a502f06",
   "metadata": {
    "execution": {
     "iopub.execute_input": "2023-09-10T18:28:38.708204Z",
     "iopub.status.busy": "2023-09-10T18:28:38.707779Z",
     "iopub.status.idle": "2023-09-10T18:28:38.732164Z",
     "shell.execute_reply": "2023-09-10T18:28:38.731221Z"
    },
    "papermill": {
     "duration": 0.06529,
     "end_time": "2023-09-10T18:28:38.734476",
     "exception": false,
     "start_time": "2023-09-10T18:28:38.669186",
     "status": "completed"
    },
    "tags": []
   },
   "outputs": [
    {
     "data": {
      "text/plain": [
       "Diabetes  Noshow\n",
       "0         No        81694\n",
       "          Yes       20889\n",
       "1         No         6513\n",
       "          Yes        1430\n",
       "Name: Noshow, dtype: int64"
      ]
     },
     "execution_count": 52,
     "metadata": {},
     "output_type": "execute_result"
    }
   ],
   "source": [
    "# group the data with Diabetes conditions and No Show condition.\n",
    "df.groupby('Diabetes')['Noshow'].value_counts()"
   ]
  },
  {
   "cell_type": "code",
   "execution_count": 53,
   "id": "d333f802",
   "metadata": {
    "execution": {
     "iopub.execute_input": "2023-09-10T18:28:38.812210Z",
     "iopub.status.busy": "2023-09-10T18:28:38.811762Z",
     "iopub.status.idle": "2023-09-10T18:28:39.072093Z",
     "shell.execute_reply": "2023-09-10T18:28:39.070993Z"
    },
    "papermill": {
     "duration": 0.302104,
     "end_time": "2023-09-10T18:28:39.074748",
     "exception": false,
     "start_time": "2023-09-10T18:28:38.772644",
     "status": "completed"
    },
    "scrolled": true,
    "tags": []
   },
   "outputs": [
    {
     "data": {
      "image/png": "[encoded data removed]",
      "text/plain": [
       "<Figure size 432x288 with 1 Axes>"
      ]
     },
     "metadata": {
      "needs_background": "light"
     },
     "output_type": "display_data"
    }
   ],
   "source": [
    "# create a histogram between Diabetes and number of patients with show/No show conditions\n",
    "histfunc(df, 'Diabetes','Diabetes', 'Number of patients','Number of patients vs Diabetes with showup conditions')"
   ]
  },
  {
   "cell_type": "code",
   "execution_count": 54,
   "id": "f7c0e88e",
   "metadata": {
    "execution": {
     "iopub.execute_input": "2023-09-10T18:28:39.153337Z",
     "iopub.status.busy": "2023-09-10T18:28:39.152272Z",
     "iopub.status.idle": "2023-09-10T18:28:39.210335Z",
     "shell.execute_reply": "2023-09-10T18:28:39.209602Z"
    },
    "papermill": {
     "duration": 0.098487,
     "end_time": "2023-09-10T18:28:39.212167",
     "exception": false,
     "start_time": "2023-09-10T18:28:39.113680",
     "status": "completed"
    },
    "tags": []
   },
   "outputs": [
    {
     "data": {
      "text/plain": [
       "0.20363023112991432"
      ]
     },
     "execution_count": 54,
     "metadata": {},
     "output_type": "execute_result"
    }
   ],
   "source": [
    "# calculate the proportion of patients Who did NOT show up and who DID NOT have a Diabetes\n",
    "NoDiabetes_proportion = df.groupby('Diabetes')['Noshow'].value_counts()[0][1]/(df.groupby('Diabetes')['Noshow'].value_counts()[0][1]+df.groupby('Diabetes')['Noshow'].value_counts()[0][0])\n",
    "NoDiabetes_proportion"
   ]
  },
  {
   "cell_type": "markdown",
   "id": "ae1990ec",
   "metadata": {
    "papermill": {
     "duration": 0.037356,
     "end_time": "2023-09-10T18:28:39.287647",
     "exception": false,
     "start_time": "2023-09-10T18:28:39.250291",
     "status": "completed"
    },
    "tags": []
   },
   "source": [
    "> Around 20% of patients who do not have a Diabetes, did NOT show up in the appointment"
   ]
  },
  {
   "cell_type": "code",
   "execution_count": 55,
   "id": "66a7437c",
   "metadata": {
    "execution": {
     "iopub.execute_input": "2023-09-10T18:28:39.365047Z",
     "iopub.status.busy": "2023-09-10T18:28:39.364161Z",
     "iopub.status.idle": "2023-09-10T18:28:39.422668Z",
     "shell.execute_reply": "2023-09-10T18:28:39.421678Z"
    },
    "papermill": {
     "duration": 0.09963,
     "end_time": "2023-09-10T18:28:39.424781",
     "exception": false,
     "start_time": "2023-09-10T18:28:39.325151",
     "status": "completed"
    },
    "tags": []
   },
   "outputs": [
    {
     "data": {
      "text/plain": [
       "0.18003273322422259"
      ]
     },
     "execution_count": 55,
     "metadata": {},
     "output_type": "execute_result"
    }
   ],
   "source": [
    "# calculate the proportion of patients Who did NOT show up and who are having a Diabetes\n",
    "Diabetes_proportion = df.groupby('Diabetes')['Noshow'].value_counts()[1][1]/(df.groupby('Diabetes')['Noshow'].value_counts()[1][1]+df.groupby('Diabetes')['Noshow'].value_counts()[1][0])\n",
    "Diabetes_proportion"
   ]
  },
  {
   "cell_type": "markdown",
   "id": "c945a164",
   "metadata": {
    "papermill": {
     "duration": 0.038478,
     "end_time": "2023-09-10T18:28:39.501158",
     "exception": false,
     "start_time": "2023-09-10T18:28:39.462680",
     "status": "completed"
    },
    "tags": []
   },
   "source": [
    "> Around 18% of patients who are having Diabetes, did NOT show up in the appointment. **It can be concluded that if proportion is considered, Diabetes variable do not have an impact on number of patients who did not show up.**"
   ]
  },
  {
   "cell_type": "markdown",
   "id": "c590d3b6",
   "metadata": {
    "papermill": {
     "duration": 0.037428,
     "end_time": "2023-09-10T18:28:39.576392",
     "exception": false,
     "start_time": "2023-09-10T18:28:39.538964",
     "status": "completed"
    },
    "tags": []
   },
   "source": [
    "### **_Diabetes has a minor impact of patients who did not show up in the appointment as it represents 6.4% out of all the patients who did not show up in the appointment._**"
   ]
  },
  {
   "cell_type": "markdown",
   "id": "aa1f8b55",
   "metadata": {
    "papermill": {
     "duration": 0.037956,
     "end_time": "2023-09-10T18:28:39.652433",
     "exception": false,
     "start_time": "2023-09-10T18:28:39.614477",
     "status": "completed"
    },
    "tags": []
   },
   "source": [
    "### Q6. Does Alcoholism variable has an impact on Not show of the patients?"
   ]
  },
  {
   "cell_type": "code",
   "execution_count": 56,
   "id": "130449d8",
   "metadata": {
    "execution": {
     "iopub.execute_input": "2023-09-10T18:28:39.731778Z",
     "iopub.status.busy": "2023-09-10T18:28:39.731368Z",
     "iopub.status.idle": "2023-09-10T18:28:39.739115Z",
     "shell.execute_reply": "2023-09-10T18:28:39.738258Z"
    },
    "papermill": {
     "duration": 0.049038,
     "end_time": "2023-09-10T18:28:39.741075",
     "exception": false,
     "start_time": "2023-09-10T18:28:39.692037",
     "status": "completed"
    },
    "scrolled": true,
    "tags": []
   },
   "outputs": [
    {
     "data": {
      "text/plain": [
       "0    21642\n",
       "1      677\n",
       "Name: Alcoholism, dtype: int64"
      ]
     },
     "execution_count": 56,
     "metadata": {},
     "output_type": "execute_result"
    }
   ],
   "source": [
    "# check the counts of No Showup patients who has Alcoholism\n",
    "df1.Alcoholism.value_counts()"
   ]
  },
  {
   "cell_type": "code",
   "execution_count": 57,
   "id": "1c31debc",
   "metadata": {
    "execution": {
     "iopub.execute_input": "2023-09-10T18:28:39.818524Z",
     "iopub.status.busy": "2023-09-10T18:28:39.818111Z",
     "iopub.status.idle": "2023-09-10T18:28:39.826965Z",
     "shell.execute_reply": "2023-09-10T18:28:39.826108Z"
    },
    "papermill": {
     "duration": 0.049891,
     "end_time": "2023-09-10T18:28:39.828842",
     "exception": false,
     "start_time": "2023-09-10T18:28:39.778951",
     "status": "completed"
    },
    "tags": []
   },
   "outputs": [
    {
     "data": {
      "text/plain": [
       "0.030332900219543886"
      ]
     },
     "execution_count": 57,
     "metadata": {},
     "output_type": "execute_result"
    }
   ],
   "source": [
    "# calculate the percentage of pateint whos Do not have Alcoholism and did not show in the appointment\n",
    "Alcoholism = df1.Alcoholism.value_counts()[1]/(df1.Alcoholism.value_counts()[0]+df1.Alcoholism.value_counts()[1])\n",
    "Alcoholism"
   ]
  },
  {
   "cell_type": "markdown",
   "id": "a9aea470",
   "metadata": {
    "papermill": {
     "duration": 0.038663,
     "end_time": "2023-09-10T18:28:39.905717",
     "exception": false,
     "start_time": "2023-09-10T18:28:39.867054",
     "status": "completed"
    },
    "tags": []
   },
   "source": [
    "**_Only 3% of the pateints who did not show in the appointment suffers from Alcoholism.\n",
    "Alcoholism is a very minor factor of Not showing up of the patients._**"
   ]
  },
  {
   "cell_type": "markdown",
   "id": "9f57a227",
   "metadata": {
    "papermill": {
     "duration": 0.038051,
     "end_time": "2023-09-10T18:28:39.981997",
     "exception": false,
     "start_time": "2023-09-10T18:28:39.943946",
     "status": "completed"
    },
    "tags": []
   },
   "source": [
    "#### Let's check the proportion between the patient who show up /did not show up with different Alcoholism condition"
   ]
  },
  {
   "cell_type": "code",
   "execution_count": 58,
   "id": "cd71e4f3",
   "metadata": {
    "execution": {
     "iopub.execute_input": "2023-09-10T18:28:40.060958Z",
     "iopub.status.busy": "2023-09-10T18:28:40.060549Z",
     "iopub.status.idle": "2023-09-10T18:28:40.084011Z",
     "shell.execute_reply": "2023-09-10T18:28:40.083049Z"
    },
    "papermill": {
     "duration": 0.065081,
     "end_time": "2023-09-10T18:28:40.085993",
     "exception": false,
     "start_time": "2023-09-10T18:28:40.020912",
     "status": "completed"
    },
    "scrolled": true,
    "tags": []
   },
   "outputs": [
    {
     "data": {
      "text/plain": [
       "Alcoholism  Noshow\n",
       "0           No        85524\n",
       "            Yes       21642\n",
       "1           No         2683\n",
       "            Yes         677\n",
       "Name: Noshow, dtype: int64"
      ]
     },
     "execution_count": 58,
     "metadata": {},
     "output_type": "execute_result"
    }
   ],
   "source": [
    "# group the data with Alcoholism conditions and No Show condition.\n",
    "df.groupby('Alcoholism')['Noshow'].value_counts()"
   ]
  },
  {
   "cell_type": "code",
   "execution_count": 59,
   "id": "77e3149e",
   "metadata": {
    "execution": {
     "iopub.execute_input": "2023-09-10T18:28:40.164598Z",
     "iopub.status.busy": "2023-09-10T18:28:40.164175Z",
     "iopub.status.idle": "2023-09-10T18:28:40.418985Z",
     "shell.execute_reply": "2023-09-10T18:28:40.418327Z"
    },
    "papermill": {
     "duration": 0.296622,
     "end_time": "2023-09-10T18:28:40.420958",
     "exception": false,
     "start_time": "2023-09-10T18:28:40.124336",
     "status": "completed"
    },
    "tags": []
   },
   "outputs": [
    {
     "data": {
      "image/png": "[encoded data removed]",
      "text/plain": [
       "<Figure size 432x288 with 1 Axes>"
      ]
     },
     "metadata": {
      "needs_background": "light"
     },
     "output_type": "display_data"
    }
   ],
   "source": [
    "# create a histogram between Alcolholism and number of patients with show/No show conditions\n",
    "histfunc(df, 'Alcoholism','Alcoholism', 'Number of patients','Number of patients vs Alcoholism with showup conditions')"
   ]
  },
  {
   "cell_type": "code",
   "execution_count": 60,
   "id": "2e8349d5",
   "metadata": {
    "execution": {
     "iopub.execute_input": "2023-09-10T18:28:40.500900Z",
     "iopub.status.busy": "2023-09-10T18:28:40.500244Z",
     "iopub.status.idle": "2023-09-10T18:28:40.557663Z",
     "shell.execute_reply": "2023-09-10T18:28:40.556685Z"
    },
    "papermill": {
     "duration": 0.099547,
     "end_time": "2023-09-10T18:28:40.559729",
     "exception": false,
     "start_time": "2023-09-10T18:28:40.460182",
     "status": "completed"
    },
    "tags": []
   },
   "outputs": [
    {
     "data": {
      "text/plain": [
       "0.20194837915010358"
      ]
     },
     "execution_count": 60,
     "metadata": {},
     "output_type": "execute_result"
    }
   ],
   "source": [
    "# calculate the proportion of patients Who did NOT show up and who DID NOT have a Alcoholism\n",
    "NoAlcoholism_proportion = df.groupby('Alcoholism')['Noshow'].value_counts()[0][1]/(df.groupby('Alcoholism')['Noshow'].value_counts()[0][1]+df.groupby('Alcoholism')['Noshow'].value_counts()[0][0])\n",
    "NoAlcoholism_proportion"
   ]
  },
  {
   "cell_type": "markdown",
   "id": "4f6ddd6f",
   "metadata": {
    "papermill": {
     "duration": 0.038976,
     "end_time": "2023-09-10T18:28:40.637416",
     "exception": false,
     "start_time": "2023-09-10T18:28:40.598440",
     "status": "completed"
    },
    "tags": []
   },
   "source": [
    "> Around 20% of patients who do not have a Alcoholism, did NOT show up in the appointment"
   ]
  },
  {
   "cell_type": "code",
   "execution_count": 61,
   "id": "06c2c36f",
   "metadata": {
    "execution": {
     "iopub.execute_input": "2023-09-10T18:28:40.717587Z",
     "iopub.status.busy": "2023-09-10T18:28:40.717163Z",
     "iopub.status.idle": "2023-09-10T18:28:40.774435Z",
     "shell.execute_reply": "2023-09-10T18:28:40.773509Z"
    },
    "papermill": {
     "duration": 0.10036,
     "end_time": "2023-09-10T18:28:40.776452",
     "exception": false,
     "start_time": "2023-09-10T18:28:40.676092",
     "status": "completed"
    },
    "tags": []
   },
   "outputs": [
    {
     "data": {
      "text/plain": [
       "0.20148809523809524"
      ]
     },
     "execution_count": 61,
     "metadata": {},
     "output_type": "execute_result"
    }
   ],
   "source": [
    "# calculate the proportion of patients Who did NOT show up and who are having a Alcoholism\n",
    "Alcoholism_proportion = df.groupby('Alcoholism')['Noshow'].value_counts()[1][1]/(df.groupby('Alcoholism')['Noshow'].value_counts()[1][1]+df.groupby('Alcoholism')['Noshow'].value_counts()[1][0])\n",
    "Alcoholism_proportion"
   ]
  },
  {
   "cell_type": "markdown",
   "id": "f649b516",
   "metadata": {
    "papermill": {
     "duration": 0.03887,
     "end_time": "2023-09-10T18:28:40.854199",
     "exception": false,
     "start_time": "2023-09-10T18:28:40.815329",
     "status": "completed"
    },
    "tags": []
   },
   "source": [
    "> Around 20% of patients who are having Alcoholism, did NOT show up in the appointment. **It can be concluded that if proportion is considerd, Alcoholism variable do not have an impact on number of patients who did not show up.**"
   ]
  },
  {
   "cell_type": "markdown",
   "id": "b7a1be3c",
   "metadata": {
    "papermill": {
     "duration": 0.039733,
     "end_time": "2023-09-10T18:28:40.932878",
     "exception": false,
     "start_time": "2023-09-10T18:28:40.893145",
     "status": "completed"
    },
    "tags": []
   },
   "source": [
    "### **Alcoholism has a very small impact impact of patients who did not show up in the appointment as it represents 3% only out of all the patients who did not show up in the appointment._**"
   ]
  },
  {
   "cell_type": "markdown",
   "id": "6e5f8a5e",
   "metadata": {
    "papermill": {
     "duration": 0.0384,
     "end_time": "2023-09-10T18:28:41.010041",
     "exception": false,
     "start_time": "2023-09-10T18:28:40.971641",
     "status": "completed"
    },
    "tags": []
   },
   "source": [
    "### Q7. Does Handcap variable has an impact on Not show of the patients?"
   ]
  },
  {
   "cell_type": "code",
   "execution_count": 62,
   "id": "a597f94a",
   "metadata": {
    "execution": {
     "iopub.execute_input": "2023-09-10T18:28:41.090809Z",
     "iopub.status.busy": "2023-09-10T18:28:41.090117Z",
     "iopub.status.idle": "2023-09-10T18:28:41.096948Z",
     "shell.execute_reply": "2023-09-10T18:28:41.096298Z"
    },
    "papermill": {
     "duration": 0.04858,
     "end_time": "2023-09-10T18:28:41.098657",
     "exception": false,
     "start_time": "2023-09-10T18:28:41.050077",
     "status": "completed"
    },
    "scrolled": true,
    "tags": []
   },
   "outputs": [
    {
     "data": {
      "text/plain": [
       "0    21912\n",
       "1      407\n",
       "Name: Handcap, dtype: int64"
      ]
     },
     "execution_count": 62,
     "metadata": {},
     "output_type": "execute_result"
    }
   ],
   "source": [
    "# check the counts of No Showup patients who has Handcap\n",
    "df1.Handcap.value_counts()"
   ]
  },
  {
   "cell_type": "code",
   "execution_count": 63,
   "id": "4db9db65",
   "metadata": {
    "execution": {
     "iopub.execute_input": "2023-09-10T18:28:41.178473Z",
     "iopub.status.busy": "2023-09-10T18:28:41.177830Z",
     "iopub.status.idle": "2023-09-10T18:28:41.185973Z",
     "shell.execute_reply": "2023-09-10T18:28:41.185310Z"
    },
    "papermill": {
     "duration": 0.049948,
     "end_time": "2023-09-10T18:28:41.187740",
     "exception": false,
     "start_time": "2023-09-10T18:28:41.137792",
     "status": "completed"
    },
    "tags": []
   },
   "outputs": [
    {
     "data": {
      "text/plain": [
       "0.018235584031542632"
      ]
     },
     "execution_count": 63,
     "metadata": {},
     "output_type": "execute_result"
    }
   ],
   "source": [
    "# calculate the percentage of pateint whos Do not have Handcap and did not show in the appointment\n",
    "Handcap = df1.Handcap.value_counts()[1]/(df1.Handcap.value_counts()[0]+df1.Handcap.value_counts()[1])\n",
    "Handcap"
   ]
  },
  {
   "cell_type": "markdown",
   "id": "13a14b83",
   "metadata": {
    "papermill": {
     "duration": 0.040737,
     "end_time": "2023-09-10T18:28:41.267528",
     "exception": false,
     "start_time": "2023-09-10T18:28:41.226791",
     "status": "completed"
    },
    "tags": []
   },
   "source": [
    "**_Only 1.8% of the pateints who did not show in the appointment suffers from Handcap.\n",
    "Handcap is a very minor factor of Not showing up of the patients._**"
   ]
  },
  {
   "cell_type": "markdown",
   "id": "ff1a19d6",
   "metadata": {
    "papermill": {
     "duration": 0.038608,
     "end_time": "2023-09-10T18:28:41.345283",
     "exception": false,
     "start_time": "2023-09-10T18:28:41.306675",
     "status": "completed"
    },
    "tags": []
   },
   "source": [
    "#### Let's check the proportion between the patient who show up /did not show up with different Handcap condition"
   ]
  },
  {
   "cell_type": "code",
   "execution_count": 64,
   "id": "d54a1d37",
   "metadata": {
    "execution": {
     "iopub.execute_input": "2023-09-10T18:28:41.425697Z",
     "iopub.status.busy": "2023-09-10T18:28:41.425000Z",
     "iopub.status.idle": "2023-09-10T18:28:41.448805Z",
     "shell.execute_reply": "2023-09-10T18:28:41.448043Z"
    },
    "papermill": {
     "duration": 0.066229,
     "end_time": "2023-09-10T18:28:41.450670",
     "exception": false,
     "start_time": "2023-09-10T18:28:41.384441",
     "status": "completed"
    },
    "scrolled": true,
    "tags": []
   },
   "outputs": [
    {
     "data": {
      "text/plain": [
       "Handcap  Noshow\n",
       "0        No        86373\n",
       "         Yes       21912\n",
       "1        No         1834\n",
       "         Yes         407\n",
       "Name: Noshow, dtype: int64"
      ]
     },
     "execution_count": 64,
     "metadata": {},
     "output_type": "execute_result"
    }
   ],
   "source": [
    "# groyp the data with Handcap conditions and No Show condition.\n",
    "df.groupby('Handcap')['Noshow'].value_counts()"
   ]
  },
  {
   "cell_type": "code",
   "execution_count": 65,
   "id": "2e811d66",
   "metadata": {
    "execution": {
     "iopub.execute_input": "2023-09-10T18:28:41.531099Z",
     "iopub.status.busy": "2023-09-10T18:28:41.530437Z",
     "iopub.status.idle": "2023-09-10T18:28:41.771205Z",
     "shell.execute_reply": "2023-09-10T18:28:41.770197Z"
    },
    "papermill": {
     "duration": 0.283423,
     "end_time": "2023-09-10T18:28:41.773255",
     "exception": false,
     "start_time": "2023-09-10T18:28:41.489832",
     "status": "completed"
    },
    "scrolled": true,
    "tags": []
   },
   "outputs": [
    {
     "data": {
      "image/png": "[encoded data removed]",
      "text/plain": [
       "<Figure size 432x288 with 1 Axes>"
      ]
     },
     "metadata": {
      "needs_background": "light"
     },
     "output_type": "display_data"
    }
   ],
   "source": [
    "# create a histogram between Handcap and number of patients with show/No show conditions\n",
    "histfunc(df, 'Handcap','Handcap', 'Number of patients','Number of patients vs Handcap with showup conditions')"
   ]
  },
  {
   "cell_type": "code",
   "execution_count": 66,
   "id": "06681bbc",
   "metadata": {
    "execution": {
     "iopub.execute_input": "2023-09-10T18:28:41.853764Z",
     "iopub.status.busy": "2023-09-10T18:28:41.853328Z",
     "iopub.status.idle": "2023-09-10T18:28:41.912422Z",
     "shell.execute_reply": "2023-09-10T18:28:41.911455Z"
    },
    "papermill": {
     "duration": 0.101666,
     "end_time": "2023-09-10T18:28:41.914530",
     "exception": false,
     "start_time": "2023-09-10T18:28:41.812864",
     "status": "completed"
    },
    "tags": []
   },
   "outputs": [
    {
     "data": {
      "text/plain": [
       "0.20235489680011082"
      ]
     },
     "execution_count": 66,
     "metadata": {},
     "output_type": "execute_result"
    }
   ],
   "source": [
    "# calculate the proportion of patients Who did NOT show up and who DID NOT have a Handcap\n",
    "NoHandcap_proportion = df.groupby('Handcap')['Noshow'].value_counts()[0][1]/(df.groupby('Handcap')['Noshow'].value_counts()[0][1]+df.groupby('Handcap')['Noshow'].value_counts()[0][0])\n",
    "NoHandcap_proportion"
   ]
  },
  {
   "cell_type": "markdown",
   "id": "5ec72962",
   "metadata": {
    "papermill": {
     "duration": 0.03933,
     "end_time": "2023-09-10T18:28:41.993759",
     "exception": false,
     "start_time": "2023-09-10T18:28:41.954429",
     "status": "completed"
    },
    "tags": []
   },
   "source": [
    "> Around 20% of patients who do not have a Handcap, did NOT show up in the appointment"
   ]
  },
  {
   "cell_type": "code",
   "execution_count": 67,
   "id": "115d5489",
   "metadata": {
    "execution": {
     "iopub.execute_input": "2023-09-10T18:28:42.074730Z",
     "iopub.status.busy": "2023-09-10T18:28:42.073888Z",
     "iopub.status.idle": "2023-09-10T18:28:42.132401Z",
     "shell.execute_reply": "2023-09-10T18:28:42.131411Z"
    },
    "papermill": {
     "duration": 0.101034,
     "end_time": "2023-09-10T18:28:42.134411",
     "exception": false,
     "start_time": "2023-09-10T18:28:42.033377",
     "status": "completed"
    },
    "tags": []
   },
   "outputs": [
    {
     "data": {
      "text/plain": [
       "0.18161535029004908"
      ]
     },
     "execution_count": 67,
     "metadata": {},
     "output_type": "execute_result"
    }
   ],
   "source": [
    "# calculate the proportion of patients Who did NOT show up and who are having a Handcap\n",
    "Handcap_proportion = df.groupby('Handcap')['Noshow'].value_counts()[1][1]/(df.groupby('Handcap')['Noshow'].value_counts()[1][1]+df.groupby('Handcap')['Noshow'].value_counts()[1][0])\n",
    "Handcap_proportion"
   ]
  },
  {
   "cell_type": "markdown",
   "id": "2502d50d",
   "metadata": {
    "papermill": {
     "duration": 0.03947,
     "end_time": "2023-09-10T18:28:42.214395",
     "exception": false,
     "start_time": "2023-09-10T18:28:42.174925",
     "status": "completed"
    },
    "tags": []
   },
   "source": [
    "> Around 18% of patients who are having Handcap, did NOT show up in the appointment. **It can be concluded that if proportion is considered, Handcap variable do not have an impact on number of patients who did not show up.**"
   ]
  },
  {
   "cell_type": "markdown",
   "id": "2964c56d",
   "metadata": {
    "papermill": {
     "duration": 0.039355,
     "end_time": "2023-09-10T18:28:42.293986",
     "exception": false,
     "start_time": "2023-09-10T18:28:42.254631",
     "status": "completed"
    },
    "tags": []
   },
   "source": [
    "### **Handcap has a very small impact impact of patients who did not show up in the appointment as it represents 1.8% only out of all the patients who did not show up in the appointment._**"
   ]
  },
  {
   "cell_type": "markdown",
   "id": "cf873052",
   "metadata": {
    "papermill": {
     "duration": 0.039324,
     "end_time": "2023-09-10T18:28:42.373104",
     "exception": false,
     "start_time": "2023-09-10T18:28:42.333780",
     "status": "completed"
    },
    "tags": []
   },
   "source": [
    "### Q8. check Gender variable has an impact on Not show of the patients?"
   ]
  },
  {
   "cell_type": "code",
   "execution_count": 68,
   "id": "d8262c8b",
   "metadata": {
    "execution": {
     "iopub.execute_input": "2023-09-10T18:28:42.454458Z",
     "iopub.status.busy": "2023-09-10T18:28:42.453738Z",
     "iopub.status.idle": "2023-09-10T18:28:42.462389Z",
     "shell.execute_reply": "2023-09-10T18:28:42.461473Z"
    },
    "papermill": {
     "duration": 0.051455,
     "end_time": "2023-09-10T18:28:42.464312",
     "exception": false,
     "start_time": "2023-09-10T18:28:42.412857",
     "status": "completed"
    },
    "scrolled": true,
    "tags": []
   },
   "outputs": [
    {
     "data": {
      "text/plain": [
       "F    14594\n",
       "M     7725\n",
       "Name: Gender, dtype: int64"
      ]
     },
     "execution_count": 68,
     "metadata": {},
     "output_type": "execute_result"
    }
   ],
   "source": [
    "# check the counts of No Showup patients with respect to gender\n",
    "df1.Gender.value_counts()"
   ]
  },
  {
   "cell_type": "code",
   "execution_count": 69,
   "id": "4d929ae3",
   "metadata": {
    "execution": {
     "iopub.execute_input": "2023-09-10T18:28:42.546051Z",
     "iopub.status.busy": "2023-09-10T18:28:42.545367Z",
     "iopub.status.idle": "2023-09-10T18:28:42.556594Z",
     "shell.execute_reply": "2023-09-10T18:28:42.555853Z"
    },
    "papermill": {
     "duration": 0.054038,
     "end_time": "2023-09-10T18:28:42.558514",
     "exception": false,
     "start_time": "2023-09-10T18:28:42.504476",
     "status": "completed"
    },
    "tags": []
   },
   "outputs": [
    {
     "data": {
      "text/plain": [
       "0.653882342398853"
      ]
     },
     "execution_count": 69,
     "metadata": {},
     "output_type": "execute_result"
    }
   ],
   "source": [
    "# calculate the percentage of Female patients and did not show in the appointment\n",
    "Female = df1.Gender.value_counts()[0]/(df1.Gender.value_counts()[0]+df1.Gender.value_counts()[1])\n",
    "Female"
   ]
  },
  {
   "cell_type": "code",
   "execution_count": 70,
   "id": "bb223882",
   "metadata": {
    "execution": {
     "iopub.execute_input": "2023-09-10T18:28:42.640394Z",
     "iopub.status.busy": "2023-09-10T18:28:42.639720Z",
     "iopub.status.idle": "2023-09-10T18:28:42.651137Z",
     "shell.execute_reply": "2023-09-10T18:28:42.650268Z"
    },
    "papermill": {
     "duration": 0.054581,
     "end_time": "2023-09-10T18:28:42.653140",
     "exception": false,
     "start_time": "2023-09-10T18:28:42.598559",
     "status": "completed"
    },
    "tags": []
   },
   "outputs": [
    {
     "data": {
      "text/plain": [
       "0.346117657601147"
      ]
     },
     "execution_count": 70,
     "metadata": {},
     "output_type": "execute_result"
    }
   ],
   "source": [
    "# calculate the percentage of Male patients and did not show in the appointment\n",
    "Male = df1.Gender.value_counts()[1]/(df1.Gender.value_counts()[0]+df1.Gender.value_counts()[1])\n",
    "Male"
   ]
  },
  {
   "cell_type": "markdown",
   "id": "25440af5",
   "metadata": {
    "papermill": {
     "duration": 0.040488,
     "end_time": "2023-09-10T18:28:42.733512",
     "exception": false,
     "start_time": "2023-09-10T18:28:42.693024",
     "status": "completed"
    },
    "tags": []
   },
   "source": [
    "**_It is clearly shown that More number of Females than males did not show up, the number of females are almost double the number of males. Females represent 65.3% of all the patients who did not show up in the appointment. Gender has an impact of not showing up of the patients._**"
   ]
  },
  {
   "cell_type": "markdown",
   "id": "0f9baefe",
   "metadata": {
    "papermill": {
     "duration": 0.039528,
     "end_time": "2023-09-10T18:28:42.813183",
     "exception": false,
     "start_time": "2023-09-10T18:28:42.773655",
     "status": "completed"
    },
    "tags": []
   },
   "source": [
    "#### Let's check the proportion between the patient who show up /did not show up with different Handcap condition"
   ]
  },
  {
   "cell_type": "code",
   "execution_count": 71,
   "id": "935ede2f",
   "metadata": {
    "execution": {
     "iopub.execute_input": "2023-09-10T18:28:42.895498Z",
     "iopub.status.busy": "2023-09-10T18:28:42.894789Z",
     "iopub.status.idle": "2023-09-10T18:28:42.907362Z",
     "shell.execute_reply": "2023-09-10T18:28:42.906467Z"
    },
    "papermill": {
     "duration": 0.056215,
     "end_time": "2023-09-10T18:28:42.909198",
     "exception": false,
     "start_time": "2023-09-10T18:28:42.852983",
     "status": "completed"
    },
    "tags": []
   },
   "outputs": [
    {
     "data": {
      "text/plain": [
       "F    71839\n",
       "M    38687\n",
       "Name: Gender, dtype: int64"
      ]
     },
     "execution_count": 71,
     "metadata": {},
     "output_type": "execute_result"
    }
   ],
   "source": [
    "# check the total number of Female and Males in the Dataframe.\n",
    "# Its obeviously shown that there are more Females than male\n",
    "df.Gender.value_counts()"
   ]
  },
  {
   "cell_type": "code",
   "execution_count": 72,
   "id": "b84ffad9",
   "metadata": {
    "execution": {
     "iopub.execute_input": "2023-09-10T18:28:42.991241Z",
     "iopub.status.busy": "2023-09-10T18:28:42.990789Z",
     "iopub.status.idle": "2023-09-10T18:28:43.022914Z",
     "shell.execute_reply": "2023-09-10T18:28:43.021971Z"
    },
    "papermill": {
     "duration": 0.075466,
     "end_time": "2023-09-10T18:28:43.024951",
     "exception": false,
     "start_time": "2023-09-10T18:28:42.949485",
     "status": "completed"
    },
    "tags": []
   },
   "outputs": [
    {
     "data": {
      "text/plain": [
       "Gender  Noshow\n",
       "F       No        57245\n",
       "        Yes       14594\n",
       "M       No        30962\n",
       "        Yes        7725\n",
       "Name: Noshow, dtype: int64"
      ]
     },
     "execution_count": 72,
     "metadata": {},
     "output_type": "execute_result"
    }
   ],
   "source": [
    "# Group the data by gender and patients show conditions\n",
    "# Note: No: means show up, Yes: means NO Show up\n",
    "df.groupby('Gender')['Noshow'].value_counts()"
   ]
  },
  {
   "cell_type": "code",
   "execution_count": 73,
   "id": "e69564c1",
   "metadata": {
    "execution": {
     "iopub.execute_input": "2023-09-10T18:28:43.107052Z",
     "iopub.status.busy": "2023-09-10T18:28:43.106490Z",
     "iopub.status.idle": "2023-09-10T18:28:43.340824Z",
     "shell.execute_reply": "2023-09-10T18:28:43.339889Z"
    },
    "papermill": {
     "duration": 0.277661,
     "end_time": "2023-09-10T18:28:43.342979",
     "exception": false,
     "start_time": "2023-09-10T18:28:43.065318",
     "status": "completed"
    },
    "tags": []
   },
   "outputs": [
    {
     "data": {
      "text/html": [
       "<div>\n",
       "<style scoped>\n",
       "    .dataframe tbody tr th:only-of-type {\n",
       "        vertical-align: middle;\n",
       "    }\n",
       "\n",
       "    .dataframe tbody tr th {\n",
       "        vertical-align: top;\n",
       "    }\n",
       "\n",
       "    .dataframe thead th {\n",
       "        text-align: right;\n",
       "    }\n",
       "</style>\n",
       "<table border=\"1\" class=\"dataframe\">\n",
       "  <thead>\n",
       "    <tr style=\"text-align: right;\">\n",
       "      <th></th>\n",
       "      <th>Noshow</th>\n",
       "    </tr>\n",
       "    <tr>\n",
       "      <th>Gender</th>\n",
       "      <th></th>\n",
       "    </tr>\n",
       "  </thead>\n",
       "  <tbody>\n",
       "    <tr>\n",
       "      <th>F</th>\n",
       "      <td>71839</td>\n",
       "    </tr>\n",
       "    <tr>\n",
       "      <th>M</th>\n",
       "      <td>38687</td>\n",
       "    </tr>\n",
       "  </tbody>\n",
       "</table>\n",
       "</div>"
      ],
      "text/plain": [
       "        Noshow\n",
       "Gender        \n",
       "F        71839\n",
       "M        38687"
      ]
     },
     "execution_count": 73,
     "metadata": {},
     "output_type": "execute_result"
    },
    {
     "data": {
      "image/png": "[encoded data removed]",
      "text/plain": [
       "<Figure size 432x288 with 1 Axes>"
      ]
     },
     "metadata": {
      "needs_background": "light"
     },
     "output_type": "display_data"
    }
   ],
   "source": [
    "# bar plot shows gender and patients show conditions\n",
    "# Note: No: means show up, Yes: means NO Show u\n",
    "df.groupby('Gender').Noshow.value_counts().plot(kind='bar', color='orange');\n",
    "plt.title('Number of each gender with showup / Noshowup condition')\n",
    "plt.xlabel('Gender with showup condition')\n",
    "plt.ylabel('Number of patients');\n",
    "df.groupby(['Gender'])[['Noshow']].count()"
   ]
  },
  {
   "cell_type": "markdown",
   "id": "f5fe39d9",
   "metadata": {
    "papermill": {
     "duration": 0.040787,
     "end_time": "2023-09-10T18:28:43.424715",
     "exception": false,
     "start_time": "2023-09-10T18:28:43.383928",
     "status": "completed"
    },
    "tags": []
   },
   "source": [
    "> The above bar plot shows that almost the same proportion of Males and females with showup(NO) Versus No showup(yes).\n",
    "> Let's verify this by calculating the proportion of each gender. This is accomplished by dividing each gender at each showup condition by total number of genders."
   ]
  },
  {
   "cell_type": "code",
   "execution_count": 74,
   "id": "a36cc553",
   "metadata": {
    "execution": {
     "iopub.execute_input": "2023-09-10T18:28:43.507780Z",
     "iopub.status.busy": "2023-09-10T18:28:43.507375Z",
     "iopub.status.idle": "2023-09-10T18:28:43.521969Z",
     "shell.execute_reply": "2023-09-10T18:28:43.520928Z"
    },
    "papermill": {
     "duration": 0.058659,
     "end_time": "2023-09-10T18:28:43.524044",
     "exception": false,
     "start_time": "2023-09-10T18:28:43.465385",
     "status": "completed"
    },
    "tags": []
   },
   "outputs": [
    {
     "data": {
      "text/plain": [
       "F    57245\n",
       "M    30962\n",
       "Name: Gender, dtype: int64"
      ]
     },
     "execution_count": 74,
     "metadata": {},
     "output_type": "execute_result"
    }
   ],
   "source": [
    "# The count of patients who showup in each gender\n",
    "df.Gender[show].value_counts()"
   ]
  },
  {
   "cell_type": "code",
   "execution_count": 75,
   "id": "1011c53d",
   "metadata": {
    "execution": {
     "iopub.execute_input": "2023-09-10T18:28:43.607952Z",
     "iopub.status.busy": "2023-09-10T18:28:43.607208Z",
     "iopub.status.idle": "2023-09-10T18:28:43.618615Z",
     "shell.execute_reply": "2023-09-10T18:28:43.617708Z"
    },
    "papermill": {
     "duration": 0.055511,
     "end_time": "2023-09-10T18:28:43.620624",
     "exception": false,
     "start_time": "2023-09-10T18:28:43.565113",
     "status": "completed"
    },
    "tags": []
   },
   "outputs": [
    {
     "data": {
      "text/plain": [
       "F    14594\n",
       "M     7725\n",
       "Name: Gender, dtype: int64"
      ]
     },
     "execution_count": 75,
     "metadata": {},
     "output_type": "execute_result"
    }
   ],
   "source": [
    "# The count of patiemts who DID NOT showup in each gender\n",
    "df.Gender[Noshow].value_counts()"
   ]
  },
  {
   "cell_type": "code",
   "execution_count": 76,
   "id": "bc1473e4",
   "metadata": {
    "execution": {
     "iopub.execute_input": "2023-09-10T18:28:43.706312Z",
     "iopub.status.busy": "2023-09-10T18:28:43.705897Z",
     "iopub.status.idle": "2023-09-10T18:28:43.722460Z",
     "shell.execute_reply": "2023-09-10T18:28:43.721680Z"
    },
    "papermill": {
     "duration": 0.062107,
     "end_time": "2023-09-10T18:28:43.724519",
     "exception": false,
     "start_time": "2023-09-10T18:28:43.662412",
     "status": "completed"
    },
    "tags": []
   },
   "outputs": [
    {
     "data": {
      "text/plain": [
       "3.9225023982458547"
      ]
     },
     "execution_count": 76,
     "metadata": {},
     "output_type": "execute_result"
    }
   ],
   "source": [
    "# let's calculate the proprtion of Females who showup compared to Females who did NOT showup\n",
    "Female_proportion = df.Gender[show].value_counts()[0]/df.Gender[Noshow].value_counts()[0]\n",
    "Female_proportion"
   ]
  },
  {
   "cell_type": "code",
   "execution_count": 77,
   "id": "29a09d56",
   "metadata": {
    "execution": {
     "iopub.execute_input": "2023-09-10T18:28:43.808739Z",
     "iopub.status.busy": "2023-09-10T18:28:43.808345Z",
     "iopub.status.idle": "2023-09-10T18:28:43.825749Z",
     "shell.execute_reply": "2023-09-10T18:28:43.824828Z"
    },
    "papermill": {
     "duration": 0.061722,
     "end_time": "2023-09-10T18:28:43.827748",
     "exception": false,
     "start_time": "2023-09-10T18:28:43.766026",
     "status": "completed"
    },
    "tags": []
   },
   "outputs": [
    {
     "data": {
      "text/plain": [
       "4.008025889967637"
      ]
     },
     "execution_count": 77,
     "metadata": {},
     "output_type": "execute_result"
    }
   ],
   "source": [
    "# let's calculate the proprtion of Males who showup compared to males who did NOT showup\n",
    "Male_proportion = df.Gender[show].value_counts()[1]/df.Gender[Noshow].value_counts()[1]\n",
    "Male_proportion"
   ]
  },
  {
   "cell_type": "code",
   "execution_count": 78,
   "id": "8b371ab4",
   "metadata": {
    "execution": {
     "iopub.execute_input": "2023-09-10T18:28:43.913344Z",
     "iopub.status.busy": "2023-09-10T18:28:43.912917Z",
     "iopub.status.idle": "2023-09-10T18:28:44.081947Z",
     "shell.execute_reply": "2023-09-10T18:28:44.081067Z"
    },
    "papermill": {
     "duration": 0.214364,
     "end_time": "2023-09-10T18:28:44.084323",
     "exception": false,
     "start_time": "2023-09-10T18:28:43.869959",
     "status": "completed"
    },
    "tags": []
   },
   "outputs": [
    {
     "data": {
      "image/png": "[encoded data removed]",
      "text/plain": [
       "<Figure size 432x288 with 1 Axes>"
      ]
     },
     "metadata": {
      "needs_background": "light"
     },
     "output_type": "display_data"
    }
   ],
   "source": [
    "# create a bar chart showing Females and Males proportion who showup with compared to who did NOT showup \n",
    "plt.bar(['Females', 'Males'],[Female_proportion,Male_proportion], color='blue')\n",
    "plt.title('Proportion of Females and Males patients')\n",
    "plt.xlabel('Gender')\n",
    "plt.ylabel('Proportion');"
   ]
  },
  {
   "cell_type": "markdown",
   "id": "446427da",
   "metadata": {
    "papermill": {
     "duration": 0.041759,
     "end_time": "2023-09-10T18:28:44.167759",
     "exception": false,
     "start_time": "2023-09-10T18:28:44.126000",
     "status": "completed"
    },
    "tags": []
   },
   "source": [
    "> **_From the bar chart above, it clearly shows the proportion for each of the Females and males who showup compared to the ones who did NOT showup are almost the same.\n",
    "Hence, if proportion is considered, Gender variable do not have an impact on patients who DID NOT showup in the appointment._**"
   ]
  },
  {
   "cell_type": "markdown",
   "id": "d39037b5",
   "metadata": {
    "papermill": {
     "duration": 0.041068,
     "end_time": "2023-09-10T18:28:44.315089",
     "exception": false,
     "start_time": "2023-09-10T18:28:44.274021",
     "status": "completed"
    },
    "tags": []
   },
   "source": [
    "### **Gender has a large impact of patients who did not show up in the appointment as Females represents 65.3% out of the all patients who did not showup in the appointment._**"
   ]
  },
  {
   "cell_type": "markdown",
   "id": "4eecda6d",
   "metadata": {
    "papermill": {
     "duration": 0.041278,
     "end_time": "2023-09-10T18:28:44.397865",
     "exception": false,
     "start_time": "2023-09-10T18:28:44.356587",
     "status": "completed"
    },
    "tags": []
   },
   "source": [
    ">**Scheduled day : is the day someone called or registered the appointment, this is before appointment of course.\n",
    "Appointment day: is the day of the actual appointment.**\n",
    "The data will be checked accordingly.If some data shows that scheduled day is after the appointment day, does this has a co-relation with the patients Not show conditions?"
   ]
  },
  {
   "cell_type": "code",
   "execution_count": 79,
   "id": "244340e5",
   "metadata": {
    "execution": {
     "iopub.execute_input": "2023-09-10T18:28:44.482364Z",
     "iopub.status.busy": "2023-09-10T18:28:44.481948Z",
     "iopub.status.idle": "2023-09-10T18:28:44.537508Z",
     "shell.execute_reply": "2023-09-10T18:28:44.536606Z"
    },
    "papermill": {
     "duration": 0.100591,
     "end_time": "2023-09-10T18:28:44.539918",
     "exception": false,
     "start_time": "2023-09-10T18:28:44.439327",
     "status": "completed"
    },
    "tags": []
   },
   "outputs": [
    {
     "data": {
      "text/plain": [
       "20522"
      ]
     },
     "execution_count": 79,
     "metadata": {},
     "output_type": "execute_result"
    }
   ],
   "source": [
    "# Check the total counts of appointment day after the schedule day\n",
    "df1.query(\"ScheduledDay < AppointmentDay\").value_counts().sum()"
   ]
  },
  {
   "cell_type": "code",
   "execution_count": 80,
   "id": "d18e358c",
   "metadata": {
    "execution": {
     "iopub.execute_input": "2023-09-10T18:28:44.627176Z",
     "iopub.status.busy": "2023-09-10T18:28:44.626738Z",
     "iopub.status.idle": "2023-09-10T18:28:44.646119Z",
     "shell.execute_reply": "2023-09-10T18:28:44.645210Z"
    },
    "papermill": {
     "duration": 0.065409,
     "end_time": "2023-09-10T18:28:44.648308",
     "exception": false,
     "start_time": "2023-09-10T18:28:44.582899",
     "status": "completed"
    },
    "tags": []
   },
   "outputs": [
    {
     "data": {
      "text/plain": [
       "1797"
      ]
     },
     "execution_count": 80,
     "metadata": {},
     "output_type": "execute_result"
    }
   ],
   "source": [
    "# check the total count of appointment day before the schedule day (oddity)\n",
    "df1.query(\"ScheduledDay >= AppointmentDay\").value_counts().sum()"
   ]
  },
  {
   "cell_type": "code",
   "execution_count": 81,
   "id": "d7e2273e",
   "metadata": {
    "execution": {
     "iopub.execute_input": "2023-09-10T18:28:44.734664Z",
     "iopub.status.busy": "2023-09-10T18:28:44.733740Z",
     "iopub.status.idle": "2023-09-10T18:28:44.923305Z",
     "shell.execute_reply": "2023-09-10T18:28:44.922538Z"
    },
    "papermill": {
     "duration": 0.235542,
     "end_time": "2023-09-10T18:28:44.925887",
     "exception": false,
     "start_time": "2023-09-10T18:28:44.690345",
     "status": "completed"
    },
    "tags": []
   },
   "outputs": [
    {
     "data": {
      "text/plain": [
       "71959"
      ]
     },
     "execution_count": 81,
     "metadata": {},
     "output_type": "execute_result"
    }
   ],
   "source": [
    "# Check the total counts of appointment day after the schedule day\n",
    "df.query(\"ScheduledDay < AppointmentDay\").value_counts().sum()"
   ]
  },
  {
   "cell_type": "code",
   "execution_count": 82,
   "id": "110ec64c",
   "metadata": {
    "execution": {
     "iopub.execute_input": "2023-09-10T18:28:45.013121Z",
     "iopub.status.busy": "2023-09-10T18:28:45.012222Z",
     "iopub.status.idle": "2023-09-10T18:28:45.115823Z",
     "shell.execute_reply": "2023-09-10T18:28:45.114866Z"
    },
    "papermill": {
     "duration": 0.149046,
     "end_time": "2023-09-10T18:28:45.117928",
     "exception": false,
     "start_time": "2023-09-10T18:28:44.968882",
     "status": "completed"
    },
    "tags": []
   },
   "outputs": [
    {
     "data": {
      "text/plain": [
       "38567"
      ]
     },
     "execution_count": 82,
     "metadata": {},
     "output_type": "execute_result"
    }
   ],
   "source": [
    "# check the total count of appointment day before the schedule day (oddity)\n",
    "df.query(\"ScheduledDay >= AppointmentDay\").value_counts().sum()"
   ]
  },
  {
   "cell_type": "code",
   "execution_count": 83,
   "id": "d1a80dab",
   "metadata": {
    "execution": {
     "iopub.execute_input": "2023-09-10T18:28:45.207907Z",
     "iopub.status.busy": "2023-09-10T18:28:45.207350Z",
     "iopub.status.idle": "2023-09-10T18:28:45.348039Z",
     "shell.execute_reply": "2023-09-10T18:28:45.347178Z"
    },
    "papermill": {
     "duration": 0.186526,
     "end_time": "2023-09-10T18:28:45.350368",
     "exception": false,
     "start_time": "2023-09-10T18:28:45.163842",
     "status": "completed"
    },
    "tags": []
   },
   "outputs": [
    {
     "data": {
      "text/plain": [
       "Gender  ScheduledDay          AppointmentDay        Age   Scholarship  Hipertension  Diabetes  Alcoholism  Handcap  SMSreceived  Noshow\n",
       "M       2016-05-10T08:18:24Z  2016-05-10T00:00:00Z  16.0  0            0             0         0           0        0            Yes       4\n",
       "        2016-05-11T10:23:09Z  2016-05-11T00:00:00Z  10.0  0            0             0         0           0        0            Yes       3\n",
       "        2016-06-07T16:15:14Z  2016-06-07T00:00:00Z  16.0  0            0             0         0           0        0            Yes       3\n",
       "        2016-05-06T15:31:47Z  2016-05-06T00:00:00Z  14.0  0            0             0         0           0        0            No        3\n",
       "F       2016-06-07T18:44:19Z  2016-06-07T00:00:00Z  60.0  0            0             0         0           0        0            No        3\n",
       "                                                                                                                                          ..\n",
       "        2016-05-19T07:52:10Z  2016-05-19T00:00:00Z  39.0  0            0             0         0           0        0            No        1\n",
       "        2016-05-19T07:52:23Z  2016-05-19T00:00:00Z  41.0  0            1             1         0           0        0            No        1\n",
       "        2016-05-19T07:52:50Z  2016-05-19T00:00:00Z  43.0  0            0             0         0           0        0            No        1\n",
       "        2016-05-19T07:53:04Z  2016-05-19T00:00:00Z  37.0  0            1             0         0           0        0            No        1\n",
       "M       2016-06-08T19:33:23Z  2016-06-08T00:00:00Z  27.0  0            0             0         0           0        0            No        1\n",
       "Length: 38402, dtype: int64"
      ]
     },
     "execution_count": 83,
     "metadata": {},
     "output_type": "execute_result"
    }
   ],
   "source": [
    "df.query(\"ScheduledDay >= AppointmentDay\").value_counts()"
   ]
  },
  {
   "cell_type": "code",
   "execution_count": 84,
   "id": "4d91262f",
   "metadata": {
    "execution": {
     "iopub.execute_input": "2023-09-10T18:28:45.439197Z",
     "iopub.status.busy": "2023-09-10T18:28:45.438776Z",
     "iopub.status.idle": "2023-09-10T18:28:45.468352Z",
     "shell.execute_reply": "2023-09-10T18:28:45.467423Z"
    },
    "papermill": {
     "duration": 0.077184,
     "end_time": "2023-09-10T18:28:45.470422",
     "exception": false,
     "start_time": "2023-09-10T18:28:45.393238",
     "status": "completed"
    },
    "tags": []
   },
   "outputs": [
    {
     "data": {
      "text/plain": [
       "No     36770\n",
       "Yes     1797\n",
       "Name: Noshow, dtype: int64"
      ]
     },
     "execution_count": 84,
     "metadata": {},
     "output_type": "execute_result"
    }
   ],
   "source": [
    "# check if appointment day is before the schedule day, which will be utilized in the analysis\n",
    "wrong_appointment_day = df.query(\"ScheduledDay >= AppointmentDay\")['Noshow'].value_counts()\n",
    "wrong_appointment_day"
   ]
  },
  {
   "cell_type": "code",
   "execution_count": 85,
   "id": "a0990600",
   "metadata": {
    "execution": {
     "iopub.execute_input": "2023-09-10T18:28:45.559726Z",
     "iopub.status.busy": "2023-09-10T18:28:45.558761Z",
     "iopub.status.idle": "2023-09-10T18:28:45.592682Z",
     "shell.execute_reply": "2023-09-10T18:28:45.591662Z"
    },
    "papermill": {
     "duration": 0.079951,
     "end_time": "2023-09-10T18:28:45.594761",
     "exception": false,
     "start_time": "2023-09-10T18:28:45.514810",
     "status": "completed"
    },
    "tags": []
   },
   "outputs": [
    {
     "data": {
      "text/plain": [
       "No     51437\n",
       "Yes    20522\n",
       "Name: Noshow, dtype: int64"
      ]
     },
     "execution_count": 85,
     "metadata": {},
     "output_type": "execute_result"
    }
   ],
   "source": [
    "# check if the appointment day is after the schedule day\n",
    "correct_appointment_day = df.query(\"ScheduledDay < AppointmentDay\")['Noshow'].value_counts()\n",
    "correct_appointment_day"
   ]
  },
  {
   "cell_type": "code",
   "execution_count": 86,
   "id": "ea610039",
   "metadata": {
    "execution": {
     "iopub.execute_input": "2023-09-10T18:28:45.682411Z",
     "iopub.status.busy": "2023-09-10T18:28:45.681636Z",
     "iopub.status.idle": "2023-09-10T18:28:45.852062Z",
     "shell.execute_reply": "2023-09-10T18:28:45.851137Z"
    },
    "papermill": {
     "duration": 0.216605,
     "end_time": "2023-09-10T18:28:45.854118",
     "exception": false,
     "start_time": "2023-09-10T18:28:45.637513",
     "status": "completed"
    },
    "tags": []
   },
   "outputs": [
    {
     "data": {
      "image/png": "[encoded data removed]",
      "text/plain": [
       "<Figure size 432x288 with 1 Axes>"
      ]
     },
     "metadata": {
      "needs_background": "light"
     },
     "output_type": "display_data"
    }
   ],
   "source": [
    "# create a bar plot showing showup conditions with correct and wrong appointment day\n",
    "plt.bar(['wrong(Yes)', 'wrong(No)', 'correct(Yes)', 'correct(No)'],[wrong_appointment_day[0],wrong_appointment_day[1],correct_appointment_day[0], correct_appointment_day[1]])\n",
    "plt.title('Patients showup condition with correct and wrong Appointment day')\n",
    "plt.ylabel('Number of patients');"
   ]
  },
  {
   "cell_type": "markdown",
   "id": "5add638e",
   "metadata": {
    "papermill": {
     "duration": 0.042854,
     "end_time": "2023-09-10T18:28:45.940825",
     "exception": false,
     "start_time": "2023-09-10T18:28:45.897971",
     "status": "completed"
    },
    "tags": []
   },
   "source": [
    "> The count of data with an oddity in appointment or scheduled day (Appointment day shown after the scheduled day) is around 35% of the whole data. Additionally, the count of patients who did Not show up at wrong appointment or scheduled day shows 1797 (which represents 8% of the total number of patients who did Not show up).\n",
    "From the plot above, so there is no co-relation between oddity in sceduled day lead to the patients show up condition.\n",
    "Another point to ponder is to check if there is a relation between appointment/scheduled day and SMS recieved variable, Does the patient receives any message if there is a change required in the appointment day?"
   ]
  },
  {
   "cell_type": "code",
   "execution_count": 87,
   "id": "469079f9",
   "metadata": {
    "execution": {
     "iopub.execute_input": "2023-09-10T18:28:46.029743Z",
     "iopub.status.busy": "2023-09-10T18:28:46.028685Z",
     "iopub.status.idle": "2023-09-10T18:28:46.042275Z",
     "shell.execute_reply": "2023-09-10T18:28:46.041604Z"
    },
    "papermill": {
     "duration": 0.059771,
     "end_time": "2023-09-10T18:28:46.044102",
     "exception": false,
     "start_time": "2023-09-10T18:28:45.984331",
     "status": "completed"
    },
    "scrolled": true,
    "tags": []
   },
   "outputs": [
    {
     "data": {
      "text/plain": [
       "0    1797\n",
       "Name: SMSreceived, dtype: int64"
      ]
     },
     "execution_count": 87,
     "metadata": {},
     "output_type": "execute_result"
    }
   ],
   "source": [
    "# check the counts of patients who received an SMS and apointment day after the schedule day\n",
    "df1.query(\"ScheduledDay >= AppointmentDay\")['SMSreceived'].value_counts()"
   ]
  },
  {
   "cell_type": "code",
   "execution_count": 88,
   "id": "cd8a7cab",
   "metadata": {
    "execution": {
     "iopub.execute_input": "2023-09-10T18:28:46.133500Z",
     "iopub.status.busy": "2023-09-10T18:28:46.132415Z",
     "iopub.status.idle": "2023-09-10T18:28:46.149177Z",
     "shell.execute_reply": "2023-09-10T18:28:46.148292Z"
    },
    "papermill": {
     "duration": 0.063691,
     "end_time": "2023-09-10T18:28:46.151236",
     "exception": false,
     "start_time": "2023-09-10T18:28:46.087545",
     "status": "completed"
    },
    "scrolled": true,
    "tags": []
   },
   "outputs": [
    {
     "data": {
      "text/plain": [
       "0    10738\n",
       "1     9784\n",
       "Name: SMSreceived, dtype: int64"
      ]
     },
     "execution_count": 88,
     "metadata": {},
     "output_type": "execute_result"
    }
   ],
   "source": [
    "# check the counts of patients who received an SMS and apointmnet day before the schedule day\n",
    "df1.query(\"ScheduledDay < AppointmentDay\")['SMSreceived'].value_counts()"
   ]
  },
  {
   "cell_type": "markdown",
   "id": "bc0215cb",
   "metadata": {
    "papermill": {
     "duration": 0.043442,
     "end_time": "2023-09-10T18:28:46.239271",
     "exception": false,
     "start_time": "2023-09-10T18:28:46.195829",
     "status": "completed"
    },
    "tags": []
   },
   "source": [
    "> it is noticed that none of the patients with ODDITY in appointment day receives an SMS. "
   ]
  },
  {
   "cell_type": "markdown",
   "id": "ea00f97b",
   "metadata": {
    "papermill": {
     "duration": 0.04353,
     "end_time": "2023-09-10T18:28:46.329173",
     "exception": false,
     "start_time": "2023-09-10T18:28:46.285643",
     "status": "completed"
    },
    "tags": []
   },
   "source": [
    "### **Oddity in appointment day has no impact of patients who did not show up in the appointment._**"
   ]
  },
  {
   "cell_type": "markdown",
   "id": "fc2dc873",
   "metadata": {
    "papermill": {
     "duration": 0.043358,
     "end_time": "2023-09-10T18:28:46.416527",
     "exception": false,
     "start_time": "2023-09-10T18:28:46.373169",
     "status": "completed"
    },
    "tags": []
   },
   "source": [
    "### Q8. Does Age variable has co-relation with patients who did not showup?"
   ]
  },
  {
   "cell_type": "code",
   "execution_count": 89,
   "id": "8f4784c1",
   "metadata": {
    "execution": {
     "iopub.execute_input": "2023-09-10T18:28:46.505674Z",
     "iopub.status.busy": "2023-09-10T18:28:46.504903Z",
     "iopub.status.idle": "2023-09-10T18:28:46.515192Z",
     "shell.execute_reply": "2023-09-10T18:28:46.514501Z"
    },
    "papermill": {
     "duration": 0.05678,
     "end_time": "2023-09-10T18:28:46.516983",
     "exception": false,
     "start_time": "2023-09-10T18:28:46.460203",
     "status": "completed"
    },
    "scrolled": true,
    "tags": []
   },
   "outputs": [
    {
     "data": {
      "text/plain": [
       "0.5      639\n",
       "1.0      415\n",
       "17.0     396\n",
       "19.0     394\n",
       "30.0     369\n",
       "        ... \n",
       "95.0       6\n",
       "115.0      3\n",
       "97.0       2\n",
       "98.0       1\n",
       "96.0       1\n",
       "Name: Age, Length: 100, dtype: int64"
      ]
     },
     "execution_count": 89,
     "metadata": {},
     "output_type": "execute_result"
    }
   ],
   "source": [
    "# Display counts of patients who show up in the appointmnet according to their age\n",
    "df1.Age.value_counts()"
   ]
  },
  {
   "cell_type": "code",
   "execution_count": 90,
   "id": "3fd538f1",
   "metadata": {
    "execution": {
     "iopub.execute_input": "2023-09-10T18:28:46.605483Z",
     "iopub.status.busy": "2023-09-10T18:28:46.604581Z",
     "iopub.status.idle": "2023-09-10T18:28:46.623067Z",
     "shell.execute_reply": "2023-09-10T18:28:46.622114Z"
    },
    "papermill": {
     "duration": 0.064979,
     "end_time": "2023-09-10T18:28:46.625250",
     "exception": false,
     "start_time": "2023-09-10T18:28:46.560271",
     "status": "completed"
    },
    "scrolled": true,
    "tags": []
   },
   "outputs": [
    {
     "data": {
      "text/plain": [
       "Noshow\n",
       "No     37.806943\n",
       "Yes    34.331982\n",
       "Name: Age, dtype: float64"
      ]
     },
     "execution_count": 90,
     "metadata": {},
     "output_type": "execute_result"
    }
   ],
   "source": [
    "# calculate the mean age of patients who show up in the appointment\n",
    "df.groupby('Noshow').Age.mean()"
   ]
  },
  {
   "cell_type": "code",
   "execution_count": 91,
   "id": "1a6982a7",
   "metadata": {
    "execution": {
     "iopub.execute_input": "2023-09-10T18:28:46.714319Z",
     "iopub.status.busy": "2023-09-10T18:28:46.713648Z",
     "iopub.status.idle": "2023-09-10T18:28:46.747223Z",
     "shell.execute_reply": "2023-09-10T18:28:46.746289Z"
    },
    "papermill": {
     "duration": 0.08022,
     "end_time": "2023-09-10T18:28:46.749280",
     "exception": false,
     "start_time": "2023-09-10T18:28:46.669060",
     "status": "completed"
    },
    "scrolled": true,
    "tags": []
   },
   "outputs": [
    {
     "data": {
      "text/plain": [
       "Noshow  Age  \n",
       "No      0.5      2900\n",
       "        1.0      1858\n",
       "        52.0     1449\n",
       "        56.0     1372\n",
       "        2.0      1366\n",
       "                 ... \n",
       "Yes     95.0        6\n",
       "        115.0       3\n",
       "        97.0        2\n",
       "        96.0        1\n",
       "        98.0        1\n",
       "Name: Age, Length: 203, dtype: int64"
      ]
     },
     "execution_count": 91,
     "metadata": {},
     "output_type": "execute_result"
    }
   ],
   "source": [
    "# calculate the mean age of patients who show up in the appointment\n",
    "df.groupby('Noshow').Age.value_counts()"
   ]
  },
  {
   "cell_type": "code",
   "execution_count": 92,
   "id": "cddcfaf3",
   "metadata": {
    "execution": {
     "iopub.execute_input": "2023-09-10T18:28:46.837404Z",
     "iopub.status.busy": "2023-09-10T18:28:46.836950Z",
     "iopub.status.idle": "2023-09-10T18:28:47.098922Z",
     "shell.execute_reply": "2023-09-10T18:28:47.098165Z"
    },
    "papermill": {
     "duration": 0.30823,
     "end_time": "2023-09-10T18:28:47.100872",
     "exception": false,
     "start_time": "2023-09-10T18:28:46.792642",
     "status": "completed"
    },
    "scrolled": true,
    "tags": []
   },
   "outputs": [
    {
     "data": {
      "image/png": "[encoded data removed]",
      "text/plain": [
       "<Figure size 432x288 with 1 Axes>"
      ]
     },
     "metadata": {
      "needs_background": "light"
     },
     "output_type": "display_data"
    }
   ],
   "source": [
    "# create a histogram between Age and number of patients with show/No show conditions\n",
    "histfunc(df, 'Age','Age', 'Number of patients','Number of patients vs Age with showup conditions')"
   ]
  },
  {
   "cell_type": "markdown",
   "id": "36a3d857",
   "metadata": {
    "papermill": {
     "duration": 0.045435,
     "end_time": "2023-09-10T18:28:47.190999",
     "exception": false,
     "start_time": "2023-09-10T18:28:47.145564",
     "status": "completed"
    },
    "tags": []
   },
   "source": [
    "**_The above plot shows NO co-relation between age and Number of patients who did not show up._**"
   ]
  },
  {
   "cell_type": "markdown",
   "id": "8bc74a32",
   "metadata": {
    "papermill": {
     "duration": 0.044874,
     "end_time": "2023-09-10T18:28:47.280254",
     "exception": false,
     "start_time": "2023-09-10T18:28:47.235380",
     "status": "completed"
    },
    "tags": []
   },
   "source": [
    "<a id='conclusions'></a>\n",
    "## Conclusions\n",
    "\n",
    "> The Analysis above shows that there are mutiple strong factors contributing to the patients of not Showing up in the appointment such as Scholarship representing 88.4%, SMSreceived representing 56.4%, Female Gender representing 65%, and Hipertension representing 17%. In addition to various minor factors like Diabetes representing 6.4%, Alcoholism representing 3% and Handcap representing 1.8%. Whereas, Age variable and the oddity in appointment day in the datset does not have an impact on the number of patients who did not show in the appointment.\n",
    "The are two limitations faced in the analysis report as following: correcting the oddity in the appointment day without basis. Furthermore, the Handcap variable with mutiple values other than 0 and 1 such as 2,3 and 4 value (total 199 rows) are all replaced to a value 1 ,but it can be either removed as it represent 0.18% of all the size of the data or keep it.\n",
    "Additional Limitation is i could not make use of Neighborhood variable provided without information about patient location which would be useful in calculating the distance between the patient location and the appointment location to check its impact on the patient No show to the appointment."
   ]
  }
 ],
 "kernelspec": {
  "display_name": "Python 3",
  "language": "python",
  "name": "python3"
 },
 "language_info": {
  "codemirror_mode": {
   "name": "ipython",
   "version": 3
  },
  "file_extension": ".py",
  "mimetype": "text/x-python",
  "name": "python",
  "nbconvert_exporter": "python",
  "pygments_lexer": "ipython3",
  "version": "3.6.4"
 },
 "metadata": {
  "kernelspec": {
   "display_name": "Python 3",
   "language": "python",
   "name": "python3"
  },
  "language_info": {
   "codemirror_mode": {
    "name": "ipython",
    "version": 3
   },
   "file_extension": ".py",
   "mimetype": "text/x-python",
   "name": "python",
   "nbconvert_exporter": "python",
   "pygments_lexer": "ipython3",
   "version": "3.7.12"
  },
  "papermill": {
   "default_parameters": {},
   "duration": 31.07342,
   "end_time": "2023-09-10T18:28:48.145654",
   "environment_variables": {},
   "exception": null,
   "input_path": "__notebook__.ipynb",
   "output_path": "__notebook__.ipynb",
   "parameters": {},
   "start_time": "2023-09-10T18:28:17.072234",
   "version": "2.3.4"
  }
 },
 "nbformat": 4,
 "nbformat_minor": 5
}
